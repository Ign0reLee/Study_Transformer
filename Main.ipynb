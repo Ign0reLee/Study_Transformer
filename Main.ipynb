{
 "cells": [
  {
   "cell_type": "code",
   "execution_count": 1,
   "metadata": {},
   "outputs": [],
   "source": [
    "import tensorflow.config as tc"
   ]
  },
  {
   "cell_type": "code",
   "execution_count": 2,
   "metadata": {},
   "outputs": [
    {
     "name": "stdout",
     "output_type": "stream",
     "text": [
      "[PhysicalDevice(name='/physical_device:GPU:0', device_type='GPU'), PhysicalDevice(name='/physical_device:GPU:1', device_type='GPU')]\n"
     ]
    }
   ],
   "source": [
    "print(tc.list_physical_devices('GPU'))"
   ]
  },
  {
   "cell_type": "markdown",
   "metadata": {},
   "source": [
    "# Import API's"
   ]
  },
  {
   "cell_type": "code",
   "execution_count": 3,
   "metadata": {},
   "outputs": [],
   "source": [
    "import collections\n",
    "import logging\n",
    "import os\n",
    "import pathlib\n",
    "import re\n",
    "import string\n",
    "import sys\n",
    "import time\n",
    "\n",
    "import numpy as np\n",
    "import matplotlib.pyplot as plt\n",
    "\n",
    "import tensorflow_datasets as tfds\n",
    "import tensorflow_text as text\n",
    "import tensorflow as tf"
   ]
  },
  {
   "cell_type": "markdown",
   "metadata": {},
   "source": [
    "# Preparing DataSets "
   ]
  },
  {
   "cell_type": "code",
   "execution_count": 4,
   "metadata": {
    "scrolled": true
   },
   "outputs": [],
   "source": [
    "# Load Portuguese to English Datasets\n",
    "examples, metadata = tfds.load('ted_hrlr_translate/pt_to_en', with_info=True, as_supervised=True)\n",
    "\n",
    "# Devide Train and Validation Datasets\n",
    "train_examples, val_examples = examples['train'], examples['validation']"
   ]
  },
  {
   "cell_type": "markdown",
   "metadata": {},
   "source": [
    "# Check Datasets"
   ]
  },
  {
   "cell_type": "code",
   "execution_count": 5,
   "metadata": {},
   "outputs": [
    {
     "name": "stdout",
     "output_type": "stream",
     "text": [
      "e quando melhoramos a procura , tiramos a única vantagem da impressão , que é a serendipidade .\n",
      "mas e se estes fatores fossem ativos ?\n",
      "mas eles não tinham a curiosidade de me testar .\n",
      "\n",
      "and when you improve searchability , you actually take away the one advantage of print , which is serendipity .\n",
      "but what if it were active ?\n",
      "but they did n't test for curiosity .\n"
     ]
    }
   ],
   "source": [
    "for pt_examples, en_examples in train_examples.batch(3).take(1):\n",
    "    \n",
    "    # Portuguese\n",
    "    for pt in pt_examples.numpy():\n",
    "        # Decode UTF-8\n",
    "        print(pt.decode('utf-8'))\n",
    "        \n",
    "    # Print Blank    \n",
    "    print()\n",
    "    \n",
    "    # English\n",
    "    for en in en_examples.numpy():\n",
    "        # Decode UTF-8\n",
    "        print(en.decode('utf-8'))"
   ]
  },
  {
   "cell_type": "markdown",
   "metadata": {},
   "source": [
    "# Text Tokenization & Detokenization"
   ]
  },
  {
   "cell_type": "code",
   "execution_count": 6,
   "metadata": {},
   "outputs": [
    {
     "data": {
      "text/plain": [
       "'./ted_hrlr_translate_pt_en_converter.zip'"
      ]
     },
     "execution_count": 6,
     "metadata": {},
     "output_type": "execute_result"
    }
   ],
   "source": [
    "# Download Pretrained Model\n",
    "\n",
    "model_name = \"ted_hrlr_translate_pt_en_converter\"\n",
    "\n",
    "tf.keras.utils.get_file(\n",
    "    f\"{model_name}.zip\",\n",
    "    f\"https://storage.googleapis.com/download.tensorflow.org/models/{model_name}.zip\",\n",
    "    cache_dir='.', cache_subdir='', extract=True\n",
    ")"
   ]
  },
  {
   "cell_type": "code",
   "execution_count": 7,
   "metadata": {},
   "outputs": [],
   "source": [
    "# Load Pretrained Model\n",
    "\n",
    "tokenizers = tf.saved_model.load(model_name)"
   ]
  },
  {
   "cell_type": "markdown",
   "metadata": {},
   "source": [
    "# Check Tokenizer's item"
   ]
  },
  {
   "cell_type": "code",
   "execution_count": 8,
   "metadata": {
    "scrolled": true
   },
   "outputs": [
    {
     "data": {
      "text/plain": [
       "['detokenize',\n",
       " 'get_reserved_tokens',\n",
       " 'get_vocab_path',\n",
       " 'get_vocab_size',\n",
       " 'lookup',\n",
       " 'tokenize',\n",
       " 'tokenizer',\n",
       " 'vocab']"
      ]
     },
     "execution_count": 8,
     "metadata": {},
     "output_type": "execute_result"
    }
   ],
   "source": [
    "[item for item in dir(tokenizers.en) if not item.startswith('_')]"
   ]
  },
  {
   "cell_type": "markdown",
   "metadata": {},
   "source": [
    "# Tokenize English Example"
   ]
  },
  {
   "cell_type": "code",
   "execution_count": 9,
   "metadata": {},
   "outputs": [
    {
     "name": "stdout",
     "output_type": "stream",
     "text": [
      "WARNING:tensorflow:5 out of the last 5 calls to <function recreate_function.<locals>.restored_function_body at 0x7fae4c2107a0> triggered tf.function retracing. Tracing is expensive and the excessive number of tracings could be due to (1) creating @tf.function repeatedly in a loop, (2) passing tensors with different shapes, (3) passing Python objects instead of tensors. For (1), please define your @tf.function outside of the loop. For (2), @tf.function has experimental_relax_shapes=True option that relaxes argument shapes that can avoid unnecessary retracing. For (3), please refer to https://www.tensorflow.org/guide/function#controlling_retracing and https://www.tensorflow.org/api_docs/python/tf/function for  more details.\n"
     ]
    },
    {
     "name": "stderr",
     "output_type": "stream",
     "text": [
      "WARNING:tensorflow:5 out of the last 5 calls to <function recreate_function.<locals>.restored_function_body at 0x7fae4c2107a0> triggered tf.function retracing. Tracing is expensive and the excessive number of tracings could be due to (1) creating @tf.function repeatedly in a loop, (2) passing tensors with different shapes, (3) passing Python objects instead of tensors. For (1), please define your @tf.function outside of the loop. For (2), @tf.function has experimental_relax_shapes=True option that relaxes argument shapes that can avoid unnecessary retracing. For (3), please refer to https://www.tensorflow.org/guide/function#controlling_retracing and https://www.tensorflow.org/api_docs/python/tf/function for  more details.\n"
     ]
    }
   ],
   "source": [
    "encoded = tokenizers.en.tokenize(en_examples)"
   ]
  },
  {
   "cell_type": "code",
   "execution_count": 10,
   "metadata": {},
   "outputs": [
    {
     "name": "stdout",
     "output_type": "stream",
     "text": [
      "[2, 72, 117, 79, 1259, 1491, 2362, 13, 79, 150, 184, 311, 71, 103, 2308, 74, 2679, 13, 148, 80, 55, 4840, 1434, 2423, 540, 15, 3]\n",
      "[2, 87, 90, 107, 76, 129, 1852, 30, 3]\n",
      "[2, 87, 83, 149, 50, 9, 56, 664, 85, 2512, 15, 3]\n"
     ]
    }
   ],
   "source": [
    "for row in encoded.to_list():\n",
    "    print(row)"
   ]
  },
  {
   "cell_type": "markdown",
   "metadata": {},
   "source": [
    "# Detokenize English Example"
   ]
  },
  {
   "cell_type": "code",
   "execution_count": 11,
   "metadata": {},
   "outputs": [
    {
     "name": "stdout",
     "output_type": "stream",
     "text": [
      "WARNING:tensorflow:6 out of the last 6 calls to <function recreate_function.<locals>.restored_function_body at 0x7fadf544fd40> triggered tf.function retracing. Tracing is expensive and the excessive number of tracings could be due to (1) creating @tf.function repeatedly in a loop, (2) passing tensors with different shapes, (3) passing Python objects instead of tensors. For (1), please define your @tf.function outside of the loop. For (2), @tf.function has experimental_relax_shapes=True option that relaxes argument shapes that can avoid unnecessary retracing. For (3), please refer to https://www.tensorflow.org/guide/function#controlling_retracing and https://www.tensorflow.org/api_docs/python/tf/function for  more details.\n"
     ]
    },
    {
     "name": "stderr",
     "output_type": "stream",
     "text": [
      "WARNING:tensorflow:6 out of the last 6 calls to <function recreate_function.<locals>.restored_function_body at 0x7fadf544fd40> triggered tf.function retracing. Tracing is expensive and the excessive number of tracings could be due to (1) creating @tf.function repeatedly in a loop, (2) passing tensors with different shapes, (3) passing Python objects instead of tensors. For (1), please define your @tf.function outside of the loop. For (2), @tf.function has experimental_relax_shapes=True option that relaxes argument shapes that can avoid unnecessary retracing. For (3), please refer to https://www.tensorflow.org/guide/function#controlling_retracing and https://www.tensorflow.org/api_docs/python/tf/function for  more details.\n"
     ]
    }
   ],
   "source": [
    "round_trip = tokenizers.en.detokenize(encoded)"
   ]
  },
  {
   "cell_type": "code",
   "execution_count": 12,
   "metadata": {},
   "outputs": [
    {
     "name": "stdout",
     "output_type": "stream",
     "text": [
      "and when you improve searchability , you actually take away the one advantage of print , which is serendipity .\n",
      "but what if it were active ?\n",
      "but they did n ' t test for curiosity .\n"
     ]
    }
   ],
   "source": [
    "for line in round_trip.numpy():\n",
    "    print(line.decode('utf-8'))"
   ]
  },
  {
   "cell_type": "markdown",
   "metadata": {},
   "source": [
    "**Make Lower Lookup**"
   ]
  },
  {
   "cell_type": "code",
   "execution_count": 13,
   "metadata": {},
   "outputs": [
    {
     "name": "stdout",
     "output_type": "stream",
     "text": [
      "WARNING:tensorflow:7 out of the last 7 calls to <function recreate_function.<locals>.restored_function_body at 0x7fadf4231e60> triggered tf.function retracing. Tracing is expensive and the excessive number of tracings could be due to (1) creating @tf.function repeatedly in a loop, (2) passing tensors with different shapes, (3) passing Python objects instead of tensors. For (1), please define your @tf.function outside of the loop. For (2), @tf.function has experimental_relax_shapes=True option that relaxes argument shapes that can avoid unnecessary retracing. For (3), please refer to https://www.tensorflow.org/guide/function#controlling_retracing and https://www.tensorflow.org/api_docs/python/tf/function for  more details.\n"
     ]
    },
    {
     "name": "stderr",
     "output_type": "stream",
     "text": [
      "WARNING:tensorflow:7 out of the last 7 calls to <function recreate_function.<locals>.restored_function_body at 0x7fadf4231e60> triggered tf.function retracing. Tracing is expensive and the excessive number of tracings could be due to (1) creating @tf.function repeatedly in a loop, (2) passing tensors with different shapes, (3) passing Python objects instead of tensors. For (1), please define your @tf.function outside of the loop. For (2), @tf.function has experimental_relax_shapes=True option that relaxes argument shapes that can avoid unnecessary retracing. For (3), please refer to https://www.tensorflow.org/guide/function#controlling_retracing and https://www.tensorflow.org/api_docs/python/tf/function for  more details.\n"
     ]
    }
   ],
   "source": [
    "tokens = tokenizers.en.lookup(encoded)"
   ]
  },
  {
   "cell_type": "code",
   "execution_count": 14,
   "metadata": {},
   "outputs": [
    {
     "data": {
      "text/plain": [
       "<tf.RaggedTensor [[b'[START]', b'and', b'when', b'you', b'improve', b'search', b'##ability', b',', b'you', b'actually', b'take', b'away', b'the', b'one', b'advantage', b'of', b'print', b',', b'which', b'is', b's', b'##ere', b'##nd', b'##ip', b'##ity', b'.', b'[END]'], [b'[START]', b'but', b'what', b'if', b'it', b'were', b'active', b'?', b'[END]'], [b'[START]', b'but', b'they', b'did', b'n', b\"'\", b't', b'test', b'for', b'curiosity', b'.', b'[END]']]>"
      ]
     },
     "execution_count": 14,
     "metadata": {},
     "output_type": "execute_result"
    }
   ],
   "source": [
    "tokens"
   ]
  },
  {
   "cell_type": "markdown",
   "metadata": {},
   "source": [
    "# Setting Input Pipelines"
   ]
  },
  {
   "cell_type": "code",
   "execution_count": 15,
   "metadata": {},
   "outputs": [],
   "source": [
    "def tokenize_pairs(pt, en):\n",
    "    pt = tokenizers.pt.tokenize(pt)\n",
    "    pt = pt.to_tensor()\n",
    "    \n",
    "    en = tokenizers.en.tokenize(en)\n",
    "    en = en.to_tensor()\n",
    "    return pt, en"
   ]
  },
  {
   "cell_type": "code",
   "execution_count": 16,
   "metadata": {},
   "outputs": [],
   "source": [
    "BUFFER_SIZE = 20000\n",
    "BATCH_SIZE = 64"
   ]
  },
  {
   "cell_type": "code",
   "execution_count": 17,
   "metadata": {},
   "outputs": [],
   "source": [
    "def make_batches(ds):\n",
    "    return (ds.cache().shuffle(BUFFER_SIZE).batch(BATCH_SIZE).map(tokenize_pairs, num_parallel_calls=tf.data.AUTOTUNE).prefetch(tf.data.AUTOTUNE))"
   ]
  },
  {
   "cell_type": "code",
   "execution_count": 18,
   "metadata": {},
   "outputs": [],
   "source": [
    "train_batches = make_batches(train_examples)\n",
    "val_batches = make_batches(val_examples)"
   ]
  },
  {
   "cell_type": "markdown",
   "metadata": {},
   "source": [
    "# Positional Encoding"
   ]
  },
  {
   "cell_type": "code",
   "execution_count": 19,
   "metadata": {},
   "outputs": [],
   "source": [
    "def get_angles(pos, i, d_model):\n",
    "    angle_rates = 1/np.power(10000, (2* (i//2)) / np.float32(d_model))\n",
    "    return pos * angle_rates"
   ]
  },
  {
   "cell_type": "code",
   "execution_count": 20,
   "metadata": {},
   "outputs": [],
   "source": [
    "def positional_encoding(position, d_model):\n",
    "    angle_rads = get_angles(np.arange(position)[:, np.newaxis], np.arange(d_model)[np.newaxis, :], d_model)\n",
    "    angle_rads[:, 0::2] = np.sin(angle_rads[:, 0::2])\n",
    "    angle_rads[:, 1::2] = np.cos(angle_rads[:, 1::2])\n",
    "    \n",
    "    pos_encoding = angle_rads[np.newaxis, ...]\n",
    "    \n",
    "    return tf.cast(pos_encoding, dtype=tf.float32)"
   ]
  },
  {
   "cell_type": "code",
   "execution_count": 21,
   "metadata": {},
   "outputs": [
    {
     "name": "stdout",
     "output_type": "stream",
     "text": [
      "(1, 2048, 512)\n"
     ]
    }
   ],
   "source": [
    "n, d = 2048, 512\n",
    "pos_encoding = positional_encoding(n, d)\n",
    "print(pos_encoding.shape)"
   ]
  },
  {
   "cell_type": "code",
   "execution_count": 22,
   "metadata": {},
   "outputs": [],
   "source": [
    "pos_encoding = pos_encoding[0]"
   ]
  },
  {
   "cell_type": "markdown",
   "metadata": {},
   "source": [
    "# Juggle the dimensions for a plot"
   ]
  },
  {
   "cell_type": "code",
   "execution_count": 23,
   "metadata": {},
   "outputs": [
    {
     "data": {
      "image/png": "[encoded data removed]",
      "text/plain": [
       "<Figure size 432x288 with 2 Axes>"
      ]
     },
     "metadata": {
      "needs_background": "light"
     },
     "output_type": "display_data"
    }
   ],
   "source": [
    "pos_encoding = tf.reshape(pos_encoding, (n, d//2, 2))\n",
    "pos_encoding = tf.transpose(pos_encoding, (2,1,0))\n",
    "pos_encoding = tf.reshape(pos_encoding, (d, n))\n",
    "\n",
    "plt.pcolormesh(pos_encoding, cmap= 'RdBu')\n",
    "plt.ylabel(\"Depth\")\n",
    "plt.xlabel(\"Position\")\n",
    "plt.colorbar()\n",
    "plt.show()"
   ]
  },
  {
   "cell_type": "markdown",
   "metadata": {},
   "source": [
    "# Masking"
   ]
  },
  {
   "cell_type": "code",
   "execution_count": 24,
   "metadata": {},
   "outputs": [],
   "source": [
    "def creating_padding_mask(seq):\n",
    "    seq = tf.cast(tf.math.equal(seq,0), tf.float32)\n",
    "    return seq[:, tf.newaxis, tf.newaxis, :] # batch_size,  1, 1, sequence_length"
   ]
  },
  {
   "cell_type": "code",
   "execution_count": 25,
   "metadata": {},
   "outputs": [
    {
     "data": {
      "text/plain": [
       "<tf.Tensor: shape=(3, 1, 1, 5), dtype=float32, numpy=\n",
       "array([[[[0., 0., 1., 1., 0.]]],\n",
       "\n",
       "\n",
       "       [[[0., 0., 0., 1., 1.]]],\n",
       "\n",
       "\n",
       "       [[[1., 1., 1., 0., 0.]]]], dtype=float32)>"
      ]
     },
     "execution_count": 25,
     "metadata": {},
     "output_type": "execute_result"
    }
   ],
   "source": [
    "# For Testing\n",
    "x = tf.constant([[7,6,0,0,1], [1,2,3,0,0], [0,0,0,4,5]])\n",
    "creating_padding_mask(x)"
   ]
  },
  {
   "cell_type": "code",
   "execution_count": 26,
   "metadata": {},
   "outputs": [],
   "source": [
    "def create_look_ahead_mask(size):\n",
    "    mask = 1 - tf.linalg.band_part(tf.ones((size, size)), -1, 0)\n",
    "    return mask #(seq_len, seq_len)"
   ]
  },
  {
   "cell_type": "code",
   "execution_count": 27,
   "metadata": {},
   "outputs": [
    {
     "data": {
      "text/plain": [
       "<tf.Tensor: shape=(3, 3), dtype=float32, numpy=\n",
       "array([[0., 1., 1.],\n",
       "       [0., 0., 1.],\n",
       "       [0., 0., 0.]], dtype=float32)>"
      ]
     },
     "execution_count": 27,
     "metadata": {},
     "output_type": "execute_result"
    }
   ],
   "source": [
    "# For Testing\n",
    "x = tf.random.uniform((1,3))\n",
    "temp = create_look_ahead_mask(x.shape[1])\n",
    "temp"
   ]
  },
  {
   "cell_type": "markdown",
   "metadata": {},
   "source": [
    "# Scaled Dot-Product Attention"
   ]
  },
  {
   "cell_type": "code",
   "execution_count": 28,
   "metadata": {},
   "outputs": [],
   "source": [
    "def scaled_dot_product_attention(q, k, v, mask):\n",
    "    \"\"\"\n",
    "    Args:\n",
    "      q: query shape == (..., seq_len_q, depth)\n",
    "      k: key shape   == (..., seq_len_k, depth)\n",
    "      v: value shape -- (..., seq_len_v, depth)\n",
    "      mask: Float tensor with shape broadcastable to (..., seq_len_q, seq_len_k). Defaults to None\n",
    "    \n",
    "    Returns:\n",
    "      output, attention_weights\n",
    "    \"\"\"\n",
    "    \n",
    "    matmul_qk = tf.matmul(q, k, transpose_b=True) # (..., seq_len_q, seq_len_k)\n",
    "    \n",
    "    # scale matmul_qk\n",
    "    dk = tf.cast(tf.shape(k)[-1], tf.float32)\n",
    "    scaled_attention_logits = matmul_qk / tf.math.sqrt(dk)\n",
    "    \n",
    "    # add the mask to the scaled tensor.\n",
    "    if mask is not None:\n",
    "        scaled_attention_logits += (mask* -1e9)\n",
    "    else:\n",
    "        pass\n",
    "        \n",
    "    # softmax is normalized on the last axis (seq_len_k) so that the scores\n",
    "    # add up to 1.\n",
    "    \n",
    "    attention_weights = tf.nn.softmax(scaled_attention_logits, axis=-1)\n",
    "    output = tf.matmul(attention_weights, v)\n",
    "    \n",
    "    return output, attention_weights"
   ]
  },
  {
   "cell_type": "code",
   "execution_count": 29,
   "metadata": {},
   "outputs": [],
   "source": [
    "# Printing Attention map\n",
    "\n",
    "def print_out(q, k, v):\n",
    "    temp_out, temp_attn = scaled_dot_product_attention(q, k, v, None)\n",
    "    print(\"Attention Weights are: \")\n",
    "    print(temp_out)\n",
    "    print(\"Attention Scores : \")\n",
    "    print(temp_attn)"
   ]
  },
  {
   "cell_type": "code",
   "execution_count": 30,
   "metadata": {},
   "outputs": [
    {
     "name": "stdout",
     "output_type": "stream",
     "text": [
      "Attention Weights are: \n",
      "tf.Tensor([[10.  0.]], shape=(1, 2), dtype=float32)\n",
      "Attention Scores : \n",
      "tf.Tensor([[0. 1. 0. 0.]], shape=(1, 4), dtype=float32)\n"
     ]
    }
   ],
   "source": [
    "np.set_printoptions(suppress=True)\n",
    "\n",
    "temp_k = tf.constant([[10,0,0],\n",
    "                     [0,10,0],\n",
    "                     [0,0,10],\n",
    "                     [0,0,10]], dtype=tf.float32) # (4,3)\n",
    "temp_v = tf.constant([[  1,0],\n",
    "                     [  10,0],\n",
    "                     [ 100,5],\n",
    "                     [1000,6]], dtype=tf.float32) # (4,2)\n",
    "\n",
    "# This 'query' aligns with the second 'key'.\n",
    "# so the second 'value' is returned.\n",
    "\n",
    "temp_q = tf.constant([[0, 10, 0]], dtype=tf.float32) # (1,3)\n",
    "print_out(temp_q, temp_k, temp_v)"
   ]
  },
  {
   "cell_type": "markdown",
   "metadata": {},
   "source": [
    "# Multi Head Attention"
   ]
  },
  {
   "cell_type": "code",
   "execution_count": 31,
   "metadata": {},
   "outputs": [],
   "source": [
    "class MultiHeadAttention(tf.keras.layers.Layer):\n",
    "    def __init__(self, d_model, num_heads):\n",
    "        super(MultiHeadAttention, self).__init__()\n",
    "        \n",
    "        self.d_model = d_model\n",
    "        self.num_heads =  num_heads\n",
    "        \n",
    "        assert self.d_model % self.num_heads == 0\n",
    "        \n",
    "        self.depth = d_model // self.num_heads\n",
    "        \n",
    "        self.wq = tf.keras.layers.Dense(d_model)\n",
    "        self.wk = tf.keras.layers.Dense(d_model)\n",
    "        self.wv = tf.keras.layers.Dense(d_model)\n",
    "        \n",
    "        self.dense = tf.keras.layers.Dense(d_model)\n",
    "        \n",
    "    def split_head(self, x, batch_size):\n",
    "        \n",
    "        x = tf.reshape(x, (batch_size, -1, self.num_heads, self.depth))\n",
    "        return tf.transpose(x, perm=[0,2,1,3])\n",
    "        \n",
    "        \n",
    "    def call(self, v, k, q, mask):\n",
    "        \n",
    "        batch_size = tf.shape(q)[0]\n",
    "        \n",
    "        q = self.wq(q)\n",
    "        k = self.wk(k)\n",
    "        v = self.wv(v)\n",
    "        \n",
    "        q = self.split_head(q, batch_size)\n",
    "        k = self.split_head(k, batch_size)\n",
    "        v = self.split_head(v, batch_size)\n",
    "        \n",
    "        scaled_attention, attention_weights = scaled_dot_product_attention(q, k, v, mask)\n",
    "        \n",
    "        scaled_attention = tf.transpose(scaled_attention, perm=[0, 2, 1, 3])\n",
    "        \n",
    "        concat_attention = tf.reshape(scaled_attention, (batch_size, -1, self.d_model))\n",
    "        \n",
    "        output = self.dense(concat_attention)  # (batch_size, seq_len_q, d_model)\n",
    "        \n",
    "        return output, attention_weights"
   ]
  },
  {
   "cell_type": "code",
   "execution_count": 32,
   "metadata": {},
   "outputs": [
    {
     "data": {
      "text/plain": [
       "(TensorShape([1, 60, 512]), TensorShape([1, 8, 60, 60]))"
      ]
     },
     "execution_count": 32,
     "metadata": {},
     "output_type": "execute_result"
    }
   ],
   "source": [
    "temp_mha = MultiHeadAttention(d_model=512, num_heads=8)\n",
    "y = tf.random.uniform((1, 60, 512))  # (batch_size, encoder_sequence, d_model)\n",
    "out, attn = temp_mha(y, k=y, q=y, mask=None)\n",
    "out.shape, attn.shape"
   ]
  },
  {
   "cell_type": "markdown",
   "metadata": {},
   "source": [
    "# Point-wise Feed Forward Network"
   ]
  },
  {
   "cell_type": "code",
   "execution_count": 33,
   "metadata": {},
   "outputs": [],
   "source": [
    "def point_wise_feed_forward_network(d_model, dff):\n",
    "    return tf.keras.Sequential([\n",
    "        tf.keras.layers.Dense(dff, activation='relu'),  # (batch_size, seq_len, dff)\n",
    "        tf.keras.layers.Dense(d_model)  # (batch_size, seq_len, d_model)\n",
    "  ])"
   ]
  },
  {
   "cell_type": "code",
   "execution_count": 34,
   "metadata": {},
   "outputs": [
    {
     "data": {
      "text/plain": [
       "TensorShape([64, 50, 512])"
      ]
     },
     "execution_count": 34,
     "metadata": {},
     "output_type": "execute_result"
    }
   ],
   "source": [
    "sample_ffn = point_wise_feed_forward_network(512, 2048)\n",
    "sample_ffn(tf.random.uniform((64, 50, 512))).shape"
   ]
  },
  {
   "cell_type": "markdown",
   "metadata": {},
   "source": [
    "# Encoding Layer"
   ]
  },
  {
   "cell_type": "code",
   "execution_count": 35,
   "metadata": {},
   "outputs": [],
   "source": [
    "class EncoderLayer(tf.keras.layers.Layer):\n",
    "    def __init__(self, d_model, num_heads, dff, rate=0.1):\n",
    "        super(EncoderLayer,self).__init__()\n",
    "        \n",
    "        self.mha = MultiHeadAttention(d_model, num_heads)\n",
    "        self.ffn = point_wise_feed_forward_network(d_model, dff)\n",
    "        \n",
    "        self.layernorm1 = tf.keras.layers.LayerNormalization(epsilon=1e-6)\n",
    "        self.layernorm2 = tf.keras.layers.LayerNormalization(epsilon=1e-6)\n",
    "        \n",
    "        self.dropout1 = tf.keras.layers.Dropout(rate)\n",
    "        self.dropout2 = tf.keras.layers.Dropout(rate)\n",
    "        \n",
    "    def call(self, x, training, mask):\n",
    "        \n",
    "        attn_output, _ = self.mha(x, x, x, mask) # (batch_size, input_seq_len, d_model)\n",
    "        attn_output = self.dropout1(attn_output, training=training)\n",
    "        out1 = self.layernorm1(x + attn_output)  # (batch_size, input_seq_len, d_model)\n",
    "        \n",
    "        ffn_output = self.ffn(out1) # (batch_size, input_seq_len, d_model)\n",
    "        ffn_output = self.dropout2(ffn_output, training=training)\n",
    "        out2 = self.layernorm2(out1 + ffn_output) # (batch_size, input_seq_len, d_model)\n",
    "        \n",
    "        return out2\n"
   ]
  },
  {
   "cell_type": "code",
   "execution_count": 36,
   "metadata": {},
   "outputs": [
    {
     "data": {
      "text/plain": [
       "TensorShape([64, 43, 512])"
      ]
     },
     "execution_count": 36,
     "metadata": {},
     "output_type": "execute_result"
    }
   ],
   "source": [
    "sample_encoder_layer = EncoderLayer(512, 8, 2048)\n",
    "\n",
    "sample_encoder_layer_output = sample_encoder_layer(\n",
    "    tf.random.uniform((64, 43, 512)), False, None)\n",
    "\n",
    "sample_encoder_layer_output.shape  # (batch_size, input_seq_len, d_model)"
   ]
  },
  {
   "cell_type": "markdown",
   "metadata": {},
   "source": [
    "# Decoding Layer"
   ]
  },
  {
   "cell_type": "code",
   "execution_count": 37,
   "metadata": {},
   "outputs": [],
   "source": [
    "class DecoderLayer(tf.keras.layers.Layer):\n",
    "    def __init__(self, d_model, num_heads, dff, rate=0.1):\n",
    "        super(DecoderLayer, self).__init__()\n",
    "        \n",
    "        self.mha1 = MultiHeadAttention(d_model, num_heads)\n",
    "        self.mha2 = MultiHeadAttention(d_model, num_heads)\n",
    "        \n",
    "        self.ffn = point_wise_feed_forward_network(d_model, dff)\n",
    "        \n",
    "        self.layernorm1 = tf.keras.layers.LayerNormalization(epsilon=1e-6)\n",
    "        self.layernorm2 = tf.keras.layers.LayerNormalization(epsilon=1e-6)\n",
    "        self.layernorm3 = tf.keras.layers.LayerNormalization(epsilon=1e-6)\n",
    "        \n",
    "        self.dropout1 = tf.keras.layers.Dropout(rate)\n",
    "        self.dropout2 = tf.keras.layers.Dropout(rate)\n",
    "        self.dropout3 = tf.keras.layers.Dropout(rate)\n",
    "    \n",
    "    def call(self, x, enc_output, training,look_ahead_mask, padding_mask):# enc_output.shape == (batch_size, input_seq_len, d_model)\n",
    "        \n",
    "        attn1, attn_weights_block1 = self.mha1(x, x, x, look_ahead_mask)  # (batch_size, target_seq_len, d_model)\n",
    "        attn1 = self.dropout1(attn1, training=training)\n",
    "        out1 = self.layernorm1(attn1 + x)\n",
    "        \n",
    "        attn2, attn_weights_block2 = self.mha2(enc_output, enc_output, out1, padding_mask)  # (batch_size, target_seq_len, d_model)\n",
    "        attn2 = self.dropout2(attn2, training=training)\n",
    "        out2 = self.layernorm2(attn2 + out1)  # (batch_size, target_seq_len, d_model)\n",
    "        \n",
    "        ffn_output = self.ffn(out2)  # (batch_size, target_seq_len, d_model)\n",
    "        ffn_output = self.dropout3(ffn_output, training=training)\n",
    "        out3 = self.layernorm3(ffn_output + out2)  # (batch_size, target_seq_len, d_model)\n",
    "        \n",
    "        return out3, attn_weights_block1, attn_weights_block2"
   ]
  },
  {
   "cell_type": "code",
   "execution_count": 38,
   "metadata": {},
   "outputs": [
    {
     "data": {
      "text/plain": [
       "TensorShape([64, 50, 512])"
      ]
     },
     "execution_count": 38,
     "metadata": {},
     "output_type": "execute_result"
    }
   ],
   "source": [
    "sample_decoder_layer = DecoderLayer(512, 8, 2048)\n",
    "\n",
    "sample_decoder_layer_output, _, _ = sample_decoder_layer(tf.random.uniform((64, 50, 512)), sample_encoder_layer_output, False, None, None)\n",
    "\n",
    "sample_decoder_layer_output.shape  # (batch_size, target_seq_len, d_model)"
   ]
  },
  {
   "cell_type": "markdown",
   "metadata": {},
   "source": [
    "# Encoder"
   ]
  },
  {
   "cell_type": "code",
   "execution_count": 39,
   "metadata": {},
   "outputs": [],
   "source": [
    "class Encoder(tf.keras.layers.Layer):\n",
    "    def __init__(self, num_layers, d_model, num_heads, dff, input_vocab_size,  maximum_position_encoding, rate=0.1):\n",
    "        super(Encoder, self).__init__()\n",
    "        \n",
    "        self.d_model = d_model\n",
    "        self.num_layers = num_layers\n",
    "        \n",
    "        self.embedding = tf.keras.layers.Embedding(input_vocab_size, d_model)\n",
    "        self.pos_encoding = positional_encoding(maximum_position_encoding, self.d_model)\n",
    "        \n",
    "        self.enc_layers = [EncoderLayer(d_model, num_heads, dff, rate) for _ in range(num_layers)]\n",
    "        \n",
    "        self.dropout = tf.keras.layers.Dropout(rate)\n",
    "        \n",
    "    \n",
    "    def call(self, x, training, mask):\n",
    "        \n",
    "        seq_len = tf.shape(x)[1]\n",
    "        \n",
    "        # adding embedding and position encoding.\n",
    "        x = self.embedding(x)  # (batch_size, input_seq_len, d_model)\n",
    "        x *= tf.math.sqrt(tf.cast(self.d_model, tf.float32))\n",
    "        x += self.pos_encoding[:, :seq_len, :]\n",
    "        \n",
    "        x = self.dropout(x, training=training)\n",
    "        \n",
    "        \n",
    "        for i in range(self.num_layers):\n",
    "            x = self.enc_layers[i](x, training, mask)\n",
    "        \n",
    "        return x  # (batch_size, input_seq_len, d_model)"
   ]
  },
  {
   "cell_type": "code",
   "execution_count": 40,
   "metadata": {},
   "outputs": [
    {
     "name": "stdout",
     "output_type": "stream",
     "text": [
      "(64, 62, 512)\n"
     ]
    }
   ],
   "source": [
    "sample_encoder = Encoder(num_layers=2, d_model=512, num_heads=8, \n",
    "                         dff=2048, input_vocab_size=8500,\n",
    "                         maximum_position_encoding=10000)\n",
    "temp_input = tf.random.uniform((64, 62), dtype=tf.int64, minval=0, maxval=200)\n",
    "\n",
    "sample_encoder_output = sample_encoder(temp_input, training=False, mask=None)\n",
    "\n",
    "print (sample_encoder_output.shape)  # (batch_size, input_seq_len, d_model)"
   ]
  },
  {
   "cell_type": "markdown",
   "metadata": {},
   "source": [
    "# Decoder"
   ]
  },
  {
   "cell_type": "code",
   "execution_count": 41,
   "metadata": {},
   "outputs": [],
   "source": [
    "class Decoder(tf.keras.layers.Layer):\n",
    "    def __init__(self, num_layers, d_model, num_heads, dff, target_vocab_size, maximum_position_encoding, rate=0.1):\n",
    "        super(Decoder, self).__init__()\n",
    "        \n",
    "        self.d_model = d_model\n",
    "        self.num_layers = num_layers\n",
    "        \n",
    "        self.embedding = tf.keras.layers.Embedding(target_vocab_size, d_model)\n",
    "        self.pos_encoding = positional_encoding(maximum_position_encoding, d_model)\n",
    "        \n",
    "        self.dec_layers = [DecoderLayer(d_model, num_heads, dff, rate) for _ in range(num_layers)]\n",
    "        self.dropout = tf.keras.layers.Dropout(rate)\n",
    "        \n",
    "    \n",
    "    def call(self, x, enc_output, training, look_ahead_mask, padding_mask):\n",
    "        \n",
    "        seq_len = tf.shape(x)[1]\n",
    "        attention_weights = {}\n",
    "        \n",
    "        x = self.embedding(x)  # (batch_size, target_seq_len, d_model)\n",
    "        x *= tf.math.sqrt(tf.cast(self.d_model, tf.float32))\n",
    "        x += self.pos_encoding[:, :seq_len, :]\n",
    "        \n",
    "        x = self.dropout(x, training=training)\n",
    "        \n",
    "        for i in range(self.num_layers):\n",
    "            x, block1, block2 = self.dec_layers[i](x, enc_output, training, look_ahead_mask, padding_mask)\n",
    "            \n",
    "        attention_weights['decoder_layer{}_block1'.format(i+1)] = block1\n",
    "        attention_weights['decoder_layer{}_block2'.format(i+1)] = block2  # x.shape == (batch_size, target_seq_len, d_model)\n",
    "        \n",
    "        return x, attention_weights"
   ]
  },
  {
   "cell_type": "code",
   "execution_count": 42,
   "metadata": {},
   "outputs": [
    {
     "data": {
      "text/plain": [
       "(TensorShape([64, 26, 512]), TensorShape([64, 8, 26, 62]))"
      ]
     },
     "execution_count": 42,
     "metadata": {},
     "output_type": "execute_result"
    }
   ],
   "source": [
    "sample_decoder = Decoder(num_layers=2, d_model=512, num_heads=8, dff=2048, target_vocab_size=8000, maximum_position_encoding=5000)\n",
    "\n",
    "temp_input = tf.random.uniform((64, 26), dtype=tf.int64, minval=0, maxval=200)\n",
    "\n",
    "output, attn = sample_decoder(temp_input,enc_output=sample_encoder_output, training=False, look_ahead_mask=None,padding_mask=None)\n",
    "\n",
    "output.shape, attn['decoder_layer2_block2'].shape"
   ]
  },
  {
   "cell_type": "markdown",
   "metadata": {},
   "source": [
    "# Create Transformer"
   ]
  },
  {
   "cell_type": "code",
   "execution_count": 43,
   "metadata": {},
   "outputs": [],
   "source": [
    "class Transformer(tf.keras.Model):\n",
    "    \n",
    "    def __init__(self, num_layers, d_model, num_heads, dff, input_vocab_size, target_vocab_size, pe_input, pe_target, rate=0.1):\n",
    "        super(Transformer, self).__init__()\n",
    "        \n",
    "        self.tokenizer = Encoder(num_layers, d_model, num_heads, dff, input_vocab_size, pe_input, rate)\n",
    "        self.decoder = Decoder(num_layers, d_model, num_heads, dff, target_vocab_size, pe_target, rate)\n",
    "        \n",
    "        self.final_layer = tf.keras.layers.Dense(target_vocab_size)\n",
    "        \n",
    "    def call(self, inp, tar, training, enc_padding_mask, look_ahead_mask, dec_padding_mask):\n",
    "        \n",
    "        enc_output = self.tokenizer(inp, training, enc_padding_mask) # (batch_size, inp_seq_len, d_model)\n",
    "        \n",
    "        dec_output, attention_weights = self.decoder(tar, enc_output, training, look_ahead_mask, dec_padding_mask)\n",
    "        \n",
    "        final_output = self.final_layer(dec_output)  # (batch_size, tar_seq_len, target_vocab_size)\n",
    "        \n",
    "        return final_output, attention_weights"
   ]
  },
  {
   "cell_type": "code",
   "execution_count": 44,
   "metadata": {},
   "outputs": [
    {
     "data": {
      "text/plain": [
       "TensorShape([64, 36, 8000])"
      ]
     },
     "execution_count": 44,
     "metadata": {},
     "output_type": "execute_result"
    }
   ],
   "source": [
    "sample_transformer = Transformer(num_layers=2, d_model=512, num_heads=8,\n",
    "                                 dff=2048, input_vocab_size=8500, target_vocab_size=8000,\n",
    "                                 pe_input=10000, pe_target=6000)\n",
    "\n",
    "temp_input = tf.random.uniform((64, 38), dtype=tf.int64, minval=0, maxval=200)\n",
    "temp_target = tf.random.uniform((64, 36), dtype=tf.int64, minval=0, maxval=200)\n",
    "\n",
    "fn_out, _ = sample_transformer(temp_input, temp_target, training=False,\n",
    "                               enc_padding_mask=None, \n",
    "                               look_ahead_mask=None,\n",
    "                               dec_padding_mask=None)\n",
    "\n",
    "fn_out.shape  # (batch_size, tar_seq_len, target_vocab_size)"
   ]
  },
  {
   "cell_type": "markdown",
   "metadata": {},
   "source": [
    "# Setting Hyperparameter"
   ]
  },
  {
   "cell_type": "code",
   "execution_count": 45,
   "metadata": {},
   "outputs": [],
   "source": [
    "num_layers  = 4\n",
    "d_model = 128\n",
    "dff = 512\n",
    "num_heads = 8\n",
    "dropout_rate = 0.1"
   ]
  },
  {
   "cell_type": "markdown",
   "metadata": {},
   "source": [
    "# Make Custom Scheduler"
   ]
  },
  {
   "cell_type": "code",
   "execution_count": 46,
   "metadata": {},
   "outputs": [],
   "source": [
    "class CustomSchedule(tf.keras.optimizers.schedules.LearningRateSchedule):\n",
    "    def __init__(self, d_model, warmup_steps=4000):\n",
    "        super(CustomSchedule, self).__init__()\n",
    "        \n",
    "        self.d_model = d_model\n",
    "        self.d_model = tf.cast(self.d_model, tf.float32)\n",
    "        \n",
    "        self.warmup_steps = warmup_steps\n",
    "        \n",
    "    def __call__(self, step):\n",
    "        arg1 = tf.math.rsqrt(step)\n",
    "        arg2 = step *(self.warmup_steps ** -1.5)\n",
    "        \n",
    "        return tf.math.rsqrt(self.d_model) * tf.math.minimum(arg1, arg2)"
   ]
  },
  {
   "cell_type": "code",
   "execution_count": 47,
   "metadata": {},
   "outputs": [],
   "source": [
    "learning_rate = CustomSchedule(d_model)\n",
    "\n",
    "optimizer = tf.keras.optimizers.Adam(learning_rate, beta_1=0.9, beta_2=0.98, epsilon=1e-9)"
   ]
  },
  {
   "cell_type": "code",
   "execution_count": 48,
   "metadata": {},
   "outputs": [],
   "source": [
    "temp_learning_rate_schedule = CustomSchedule(d_model)"
   ]
  },
  {
   "cell_type": "code",
   "execution_count": 49,
   "metadata": {},
   "outputs": [
    {
     "data": {
      "text/plain": [
       "Text(0.5, 0, 'Train Step')"
      ]
     },
     "execution_count": 49,
     "metadata": {},
     "output_type": "execute_result"
    },
    {
     "data": {
      "image/png": "[encoded data removed]",
      "text/plain": [
       "<Figure size 432x288 with 1 Axes>"
      ]
     },
     "metadata": {
      "needs_background": "light"
     },
     "output_type": "display_data"
    }
   ],
   "source": [
    "plt.plot(temp_learning_rate_schedule(tf.range(40000, dtype=tf.float32)))\n",
    "plt.ylabel(\"Learning Rate\")\n",
    "plt.xlabel(\"Train Step\")"
   ]
  },
  {
   "cell_type": "markdown",
   "metadata": {},
   "source": [
    "# Loss and Metrics"
   ]
  },
  {
   "cell_type": "code",
   "execution_count": 50,
   "metadata": {},
   "outputs": [],
   "source": [
    "loss_object = tf.keras.losses.SparseCategoricalCrossentropy(from_logits=True, reduction='none')"
   ]
  },
  {
   "cell_type": "code",
   "execution_count": 51,
   "metadata": {},
   "outputs": [],
   "source": [
    "def loss_function(real, pred):\n",
    "    mask = tf.math.logical_not(tf.math.equal(real, 0))\n",
    "    loss_ = loss_object(real, pred)\n",
    "    \n",
    "    mask = tf.cast(mask, dtype=loss_.dtype)\n",
    "    loss_ *=mask\n",
    "    \n",
    "    return tf.reduce_sum(loss_)/tf.reduce_sum(mask)"
   ]
  },
  {
   "cell_type": "code",
   "execution_count": 52,
   "metadata": {},
   "outputs": [],
   "source": [
    "def accuracy_function(real, pred):\n",
    "    accuracies = tf.equal(real, tf.argmax(pred, axis=2))\n",
    "    \n",
    "    mask = tf.math.logical_not(tf.math.equal(real, 0))\n",
    "    accuracies = tf.math.logical_and(mask, accuracies)\n",
    "    \n",
    "    accuracies = tf.cast(accuracies, dtype=tf.float32)\n",
    "    mask = tf.cast(mask, dtype=tf.float32)\n",
    "    \n",
    "    return tf.reduce_sum(accuracies) / tf.reduce_sum(mask)"
   ]
  },
  {
   "cell_type": "code",
   "execution_count": 53,
   "metadata": {},
   "outputs": [],
   "source": [
    "train_loss = tf.keras.metrics.Mean(name=\"train_loss\")\n",
    "train_accuracy = tf.keras.metrics.Mean(name=\"train_accuracy\")"
   ]
  },
  {
   "cell_type": "markdown",
   "metadata": {},
   "source": [
    "# Transformer"
   ]
  },
  {
   "cell_type": "code",
   "execution_count": 54,
   "metadata": {},
   "outputs": [
    {
     "name": "stdout",
     "output_type": "stream",
     "text": [
      "WARNING:tensorflow:8 out of the last 8 calls to <function recreate_function.<locals>.restored_function_body at 0x7fadf42318c0> triggered tf.function retracing. Tracing is expensive and the excessive number of tracings could be due to (1) creating @tf.function repeatedly in a loop, (2) passing tensors with different shapes, (3) passing Python objects instead of tensors. For (1), please define your @tf.function outside of the loop. For (2), @tf.function has experimental_relax_shapes=True option that relaxes argument shapes that can avoid unnecessary retracing. For (3), please refer to https://www.tensorflow.org/guide/function#controlling_retracing and https://www.tensorflow.org/api_docs/python/tf/function for  more details.\n"
     ]
    },
    {
     "name": "stderr",
     "output_type": "stream",
     "text": [
      "WARNING:tensorflow:8 out of the last 8 calls to <function recreate_function.<locals>.restored_function_body at 0x7fadf42318c0> triggered tf.function retracing. Tracing is expensive and the excessive number of tracings could be due to (1) creating @tf.function repeatedly in a loop, (2) passing tensors with different shapes, (3) passing Python objects instead of tensors. For (1), please define your @tf.function outside of the loop. For (2), @tf.function has experimental_relax_shapes=True option that relaxes argument shapes that can avoid unnecessary retracing. For (3), please refer to https://www.tensorflow.org/guide/function#controlling_retracing and https://www.tensorflow.org/api_docs/python/tf/function for  more details.\n"
     ]
    },
    {
     "name": "stdout",
     "output_type": "stream",
     "text": [
      "WARNING:tensorflow:9 out of the last 9 calls to <function recreate_function.<locals>.restored_function_body at 0x7fadf544fcb0> triggered tf.function retracing. Tracing is expensive and the excessive number of tracings could be due to (1) creating @tf.function repeatedly in a loop, (2) passing tensors with different shapes, (3) passing Python objects instead of tensors. For (1), please define your @tf.function outside of the loop. For (2), @tf.function has experimental_relax_shapes=True option that relaxes argument shapes that can avoid unnecessary retracing. For (3), please refer to https://www.tensorflow.org/guide/function#controlling_retracing and https://www.tensorflow.org/api_docs/python/tf/function for  more details.\n"
     ]
    },
    {
     "name": "stderr",
     "output_type": "stream",
     "text": [
      "WARNING:tensorflow:9 out of the last 9 calls to <function recreate_function.<locals>.restored_function_body at 0x7fadf544fcb0> triggered tf.function retracing. Tracing is expensive and the excessive number of tracings could be due to (1) creating @tf.function repeatedly in a loop, (2) passing tensors with different shapes, (3) passing Python objects instead of tensors. For (1), please define your @tf.function outside of the loop. For (2), @tf.function has experimental_relax_shapes=True option that relaxes argument shapes that can avoid unnecessary retracing. For (3), please refer to https://www.tensorflow.org/guide/function#controlling_retracing and https://www.tensorflow.org/api_docs/python/tf/function for  more details.\n"
     ]
    }
   ],
   "source": [
    "transformer = Transformer(num_layers=num_layers, d_model=d_model,\n",
    "                         num_heads=num_heads, dff=dff,\n",
    "                         input_vocab_size=tokenizers.pt.get_vocab_size(),\n",
    "                         target_vocab_size=tokenizers.en.get_vocab_size(),\n",
    "                         pe_input=1000, pe_target=1000, rate=dropout_rate)"
   ]
  },
  {
   "cell_type": "markdown",
   "metadata": {},
   "source": [
    "# Make Mask"
   ]
  },
  {
   "cell_type": "code",
   "execution_count": 55,
   "metadata": {},
   "outputs": [],
   "source": [
    "def create_masks(inp, tar):\n",
    "    # Encoder padding mask\n",
    "    enc_padding_mask = creating_padding_mask(inp)\n",
    "    \n",
    "    # Used in the 2nd attention block in the decoder.\n",
    "    # This padding mask is used to mask the encoder outputs.\n",
    "    dec_padding_mask = creating_padding_mask(inp)\n",
    "    \n",
    "    #Used in the 1st attetion block in the decoder.\n",
    "    #It is used to pad and mask future tokens in the input received by the decoder.\n",
    "    look_ahead_mask = create_look_ahead_mask(tf.shape(tar)[1])\n",
    "    dec_target_padding_mask=creating_padding_mask(tar)\n",
    "    combined_mask = tf.maximum(dec_target_padding_mask, look_ahead_mask)\n",
    "    \n",
    "    return enc_padding_mask, combined_mask, dec_padding_mask"
   ]
  },
  {
   "cell_type": "markdown",
   "metadata": {},
   "source": [
    "# Check Point"
   ]
  },
  {
   "cell_type": "code",
   "execution_count": 56,
   "metadata": {},
   "outputs": [],
   "source": [
    "checkpoint_path = \"./checkpoints/train\"\n",
    "ckpt = tf.train.Checkpoint(transformer=transformer,\n",
    "                          optimizer=optimizer)\n",
    "ckpt_manager = tf.train.CheckpointManager(ckpt, checkpoint_path, max_to_keep=5)"
   ]
  },
  {
   "cell_type": "code",
   "execution_count": 57,
   "metadata": {},
   "outputs": [
    {
     "name": "stdout",
     "output_type": "stream",
     "text": [
      "Latest Checkpoint Restore\n"
     ]
    }
   ],
   "source": [
    "#if a checkpoint exists, restore the latest checkpoint.\n",
    "\n",
    "if ckpt_manager.latest_checkpoint:\n",
    "    ckpt.restore(ckpt_manager.latest_checkpoint)\n",
    "    print(\"Latest Checkpoint Restore\")"
   ]
  },
  {
   "cell_type": "markdown",
   "metadata": {},
   "source": [
    "# Training"
   ]
  },
  {
   "cell_type": "code",
   "execution_count": 58,
   "metadata": {},
   "outputs": [],
   "source": [
    "EPOCHS = 20"
   ]
  },
  {
   "cell_type": "code",
   "execution_count": 59,
   "metadata": {},
   "outputs": [],
   "source": [
    "train_step_signature = [\n",
    "    tf.TensorSpec(shape =(None, None), dtype=tf.int64),\n",
    "    tf.TensorSpec(shape =(None, None), dtype=tf.int64)\n",
    "]\n",
    "\n",
    "@tf.function(input_signature=train_step_signature)\n",
    "def train_step(inp, tar):\n",
    "    tar_inp = tar[:, :-1]\n",
    "    tar_real = tar[:, 1:]\n",
    "    \n",
    "    enc_padding_mask, combined_mask, dec_padding_mask = create_masks(inp, tar_inp)\n",
    "    \n",
    "    with tf.GradientTape() as tape:\n",
    "        \n",
    "        predictions, _ = transformer(inp, tar_inp, True, enc_padding_mask, combined_mask, dec_padding_mask)\n",
    "        loss = loss_function(tar_real, predictions)\n",
    "        \n",
    "    gradients = tape.gradient(loss, transformer.trainable_variables)\n",
    "    optimizer.apply_gradients(zip(gradients, transformer.trainable_variables))\n",
    "    \n",
    "    train_loss(loss)\n",
    "    train_accuracy(accuracy_function(tar_real, predictions))"
   ]
  },
  {
   "cell_type": "code",
   "execution_count": 60,
   "metadata": {
    "scrolled": true
   },
   "outputs": [
    {
     "name": "stdout",
     "output_type": "stream",
     "text": [
      "Epoch 1 Batch 0 Loss 1.4403 Accurcy 0.6673\n",
      "Epoch 1 Batch 50 Loss 1.3346 Accurcy 0.6982\n",
      "Epoch 1 Batch 100 Loss 1.3606 Accurcy 0.6933\n",
      "Epoch 1 Batch 150 Loss 1.3801 Accurcy 0.6902\n",
      "Epoch 1 Batch 200 Loss 1.3885 Accurcy 0.6886\n",
      "Epoch 1 Batch 250 Loss 1.3944 Accurcy 0.6878\n",
      "Epoch 1 Batch 300 Loss 1.3931 Accurcy 0.6883\n",
      "Epoch 1 Batch 350 Loss 1.3948 Accurcy 0.6881\n",
      "Epoch 1 Batch 400 Loss 1.4000 Accurcy 0.6875\n",
      "Epoch 1 Batch 450 Loss 1.4066 Accurcy 0.6864\n",
      "Epoch 1 Batch 500 Loss 1.4076 Accurcy 0.6862\n",
      "Epoch 1 Batch 550 Loss 1.4105 Accurcy 0.6857\n",
      "Epoch 1 Batch 600 Loss 1.4113 Accurcy 0.6857\n",
      "Epoch 1 Batch 650 Loss 1.4143 Accurcy 0.6854\n",
      "Epoch 1 Batch 700 Loss 1.4188 Accurcy 0.6847\n",
      "Epoch 1 Batch 750 Loss 1.4222 Accurcy 0.6841\n",
      "Epoch 1 Batch 800 Loss 1.4251 Accurcy 0.6836\n",
      "Epoch 1 Loss 1.4257 Accuracy 0.6836\n",
      "Time taken for 1 epoch: 72.15 secs\n",
      "\n",
      "Epoch 2 Batch 0 Loss 1.3384 Accurcy 0.6909\n",
      "Epoch 2 Batch 50 Loss 1.3526 Accurcy 0.6950\n",
      "Epoch 2 Batch 100 Loss 1.3605 Accurcy 0.6947\n",
      "Epoch 2 Batch 150 Loss 1.3571 Accurcy 0.6948\n",
      "Epoch 2 Batch 200 Loss 1.3633 Accurcy 0.6935\n",
      "Epoch 2 Batch 250 Loss 1.3673 Accurcy 0.6928\n",
      "Epoch 2 Batch 300 Loss 1.3694 Accurcy 0.6927\n",
      "Epoch 2 Batch 350 Loss 1.3683 Accurcy 0.6928\n",
      "Epoch 2 Batch 400 Loss 1.3728 Accurcy 0.6922\n",
      "Epoch 2 Batch 450 Loss 1.3743 Accurcy 0.6920\n",
      "Epoch 2 Batch 500 Loss 1.3783 Accurcy 0.6914\n",
      "Epoch 2 Batch 550 Loss 1.3800 Accurcy 0.6911\n",
      "Epoch 2 Batch 600 Loss 1.3833 Accurcy 0.6906\n",
      "Epoch 2 Batch 650 Loss 1.3859 Accurcy 0.6901\n",
      "Epoch 2 Batch 700 Loss 1.3879 Accurcy 0.6899\n",
      "Epoch 2 Batch 750 Loss 1.3926 Accurcy 0.6891\n",
      "Epoch 2 Batch 800 Loss 1.3951 Accurcy 0.6887\n",
      "Epoch 2 Loss 1.3963 Accuracy 0.6885\n",
      "Time taken for 1 epoch: 64.69 secs\n",
      "\n",
      "Epoch 3 Batch 0 Loss 1.3520 Accurcy 0.6936\n",
      "Epoch 3 Batch 50 Loss 1.3183 Accurcy 0.7002\n",
      "Epoch 3 Batch 100 Loss 1.3178 Accurcy 0.7003\n",
      "Epoch 3 Batch 150 Loss 1.3233 Accurcy 0.6995\n",
      "Epoch 3 Batch 200 Loss 1.3295 Accurcy 0.6989\n",
      "Epoch 3 Batch 250 Loss 1.3360 Accurcy 0.6979\n",
      "Epoch 3 Batch 300 Loss 1.3389 Accurcy 0.6977\n",
      "Epoch 3 Batch 350 Loss 1.3446 Accurcy 0.6963\n",
      "Epoch 3 Batch 400 Loss 1.3492 Accurcy 0.6954\n",
      "Epoch 3 Batch 450 Loss 1.3492 Accurcy 0.6955\n",
      "Epoch 3 Batch 500 Loss 1.3511 Accurcy 0.6952\n",
      "Epoch 3 Batch 550 Loss 1.3548 Accurcy 0.6946\n",
      "Epoch 3 Batch 600 Loss 1.3577 Accurcy 0.6942\n",
      "Epoch 3 Batch 650 Loss 1.3609 Accurcy 0.6938\n",
      "Epoch 3 Batch 700 Loss 1.3619 Accurcy 0.6937\n",
      "Epoch 3 Batch 750 Loss 1.3648 Accurcy 0.6932\n",
      "Epoch 3 Batch 800 Loss 1.3672 Accurcy 0.6929\n",
      "Epoch 3 Loss 1.3678 Accuracy 0.6929\n",
      "Time taken for 1 epoch: 65.02 secs\n",
      "\n",
      "Epoch 4 Batch 0 Loss 1.3011 Accurcy 0.7062\n",
      "Epoch 4 Batch 50 Loss 1.2915 Accurcy 0.7061\n",
      "Epoch 4 Batch 100 Loss 1.3002 Accurcy 0.7051\n",
      "Epoch 4 Batch 150 Loss 1.2974 Accurcy 0.7052\n",
      "Epoch 4 Batch 200 Loss 1.3031 Accurcy 0.7046\n",
      "Epoch 4 Batch 250 Loss 1.3080 Accurcy 0.7039\n",
      "Epoch 4 Batch 300 Loss 1.3137 Accurcy 0.7029\n",
      "Epoch 4 Batch 350 Loss 1.3153 Accurcy 0.7023\n",
      "Epoch 4 Batch 400 Loss 1.3192 Accurcy 0.7017\n",
      "Epoch 4 Batch 450 Loss 1.3221 Accurcy 0.7012\n",
      "Epoch 4 Batch 500 Loss 1.3223 Accurcy 0.7012\n",
      "Epoch 4 Batch 550 Loss 1.3264 Accurcy 0.7006\n",
      "Epoch 4 Batch 600 Loss 1.3294 Accurcy 0.7000\n",
      "Epoch 4 Batch 650 Loss 1.3324 Accurcy 0.6993\n",
      "Epoch 4 Batch 700 Loss 1.3351 Accurcy 0.6987\n",
      "Epoch 4 Batch 750 Loss 1.3392 Accurcy 0.6980\n",
      "Epoch 4 Batch 800 Loss 1.3418 Accurcy 0.6975\n",
      "Epoch 4 Loss 1.3418 Accuracy 0.6975\n",
      "Time taken for 1 epoch: 64.86 secs\n",
      "\n",
      "Epoch 5 Batch 0 Loss 1.1985 Accurcy 0.7323\n",
      "Epoch 5 Batch 50 Loss 1.2367 Accurcy 0.7164\n",
      "Epoch 5 Batch 100 Loss 1.2548 Accurcy 0.7136\n",
      "Epoch 5 Batch 150 Loss 1.2735 Accurcy 0.7096\n",
      "Epoch 5 Batch 200 Loss 1.2781 Accurcy 0.7085\n",
      "Epoch 5 Batch 250 Loss 1.2845 Accurcy 0.7073\n",
      "Epoch 5 Batch 300 Loss 1.2875 Accurcy 0.7066\n",
      "Epoch 5 Batch 350 Loss 1.2939 Accurcy 0.7054\n",
      "Epoch 5 Batch 400 Loss 1.2946 Accurcy 0.7052\n",
      "Epoch 5 Batch 450 Loss 1.2976 Accurcy 0.7047\n",
      "Epoch 5 Batch 500 Loss 1.3000 Accurcy 0.7042\n",
      "Epoch 5 Batch 550 Loss 1.3023 Accurcy 0.7039\n",
      "Epoch 5 Batch 600 Loss 1.3053 Accurcy 0.7034\n",
      "Epoch 5 Batch 650 Loss 1.3072 Accurcy 0.7030\n",
      "Epoch 5 Batch 700 Loss 1.3110 Accurcy 0.7022\n",
      "Epoch 5 Batch 750 Loss 1.3131 Accurcy 0.7019\n",
      "Epoch 5 Batch 800 Loss 1.3160 Accurcy 0.7015\n",
      "Saving Checkpoint for epoch 5 at ./checkpoints/train/ckpt-5\n",
      "Epoch 5 Loss 1.3170 Accuracy 0.7013\n",
      "Time taken for 1 epoch: 65.44 secs\n",
      "\n",
      "Epoch 6 Batch 0 Loss 1.2247 Accurcy 0.7104\n",
      "Epoch 6 Batch 50 Loss 1.2363 Accurcy 0.7127\n",
      "Epoch 6 Batch 100 Loss 1.2390 Accurcy 0.7132\n",
      "Epoch 6 Batch 150 Loss 1.2470 Accurcy 0.7120\n",
      "Epoch 6 Batch 200 Loss 1.2515 Accurcy 0.7116\n",
      "Epoch 6 Batch 250 Loss 1.2568 Accurcy 0.7107\n",
      "Epoch 6 Batch 300 Loss 1.2592 Accurcy 0.7105\n",
      "Epoch 6 Batch 350 Loss 1.2653 Accurcy 0.7092\n",
      "Epoch 6 Batch 400 Loss 1.2706 Accurcy 0.7081\n",
      "Epoch 6 Batch 450 Loss 1.2741 Accurcy 0.7074\n",
      "Epoch 6 Batch 500 Loss 1.2762 Accurcy 0.7072\n",
      "Epoch 6 Batch 550 Loss 1.2781 Accurcy 0.7070\n",
      "Epoch 6 Batch 600 Loss 1.2810 Accurcy 0.7066\n",
      "Epoch 6 Batch 650 Loss 1.2836 Accurcy 0.7064\n",
      "Epoch 6 Batch 700 Loss 1.2878 Accurcy 0.7058\n",
      "Epoch 6 Batch 750 Loss 1.2907 Accurcy 0.7054\n",
      "Epoch 6 Batch 800 Loss 1.2939 Accurcy 0.7049\n",
      "Epoch 6 Loss 1.2942 Accuracy 0.7048\n",
      "Time taken for 1 epoch: 64.96 secs\n",
      "\n",
      "Epoch 7 Batch 0 Loss 1.3211 Accurcy 0.6970\n",
      "Epoch 7 Batch 50 Loss 1.2157 Accurcy 0.7160\n",
      "Epoch 7 Batch 100 Loss 1.2136 Accurcy 0.7178\n",
      "Epoch 7 Batch 150 Loss 1.2152 Accurcy 0.7178\n",
      "Epoch 7 Batch 200 Loss 1.2261 Accurcy 0.7160\n",
      "Epoch 7 Batch 250 Loss 1.2297 Accurcy 0.7155\n",
      "Epoch 7 Batch 300 Loss 1.2355 Accurcy 0.7143\n",
      "Epoch 7 Batch 350 Loss 1.2405 Accurcy 0.7138\n",
      "Epoch 7 Batch 400 Loss 1.2461 Accurcy 0.7128\n",
      "Epoch 7 Batch 450 Loss 1.2497 Accurcy 0.7121\n",
      "Epoch 7 Batch 500 Loss 1.2535 Accurcy 0.7115\n",
      "Epoch 7 Batch 550 Loss 1.2562 Accurcy 0.7112\n",
      "Epoch 7 Batch 600 Loss 1.2591 Accurcy 0.7107\n",
      "Epoch 7 Batch 650 Loss 1.2620 Accurcy 0.7103\n",
      "Epoch 7 Batch 700 Loss 1.2660 Accurcy 0.7096\n",
      "Epoch 7 Batch 750 Loss 1.2683 Accurcy 0.7092\n",
      "Epoch 7 Batch 800 Loss 1.2713 Accurcy 0.7088\n",
      "Epoch 7 Loss 1.2717 Accuracy 0.7087\n",
      "Time taken for 1 epoch: 64.33 secs\n",
      "\n",
      "Epoch 8 Batch 0 Loss 1.1490 Accurcy 0.7181\n",
      "Epoch 8 Batch 50 Loss 1.2071 Accurcy 0.7192\n",
      "Epoch 8 Batch 100 Loss 1.2053 Accurcy 0.7199\n",
      "Epoch 8 Batch 150 Loss 1.2084 Accurcy 0.7193\n",
      "Epoch 8 Batch 200 Loss 1.2150 Accurcy 0.7186\n",
      "Epoch 8 Batch 250 Loss 1.2155 Accurcy 0.7189\n",
      "Epoch 8 Batch 300 Loss 1.2209 Accurcy 0.7182\n",
      "Epoch 8 Batch 350 Loss 1.2237 Accurcy 0.7175\n",
      "Epoch 8 Batch 400 Loss 1.2271 Accurcy 0.7167\n",
      "Epoch 8 Batch 450 Loss 1.2314 Accurcy 0.7160\n",
      "Epoch 8 Batch 500 Loss 1.2341 Accurcy 0.7156\n",
      "Epoch 8 Batch 550 Loss 1.2360 Accurcy 0.7153\n",
      "Epoch 8 Batch 600 Loss 1.2358 Accurcy 0.7154\n",
      "Epoch 8 Batch 650 Loss 1.2405 Accurcy 0.7143\n",
      "Epoch 8 Batch 700 Loss 1.2445 Accurcy 0.7135\n",
      "Epoch 8 Batch 750 Loss 1.2484 Accurcy 0.7128\n",
      "Epoch 8 Batch 800 Loss 1.2525 Accurcy 0.7120\n",
      "Epoch 8 Loss 1.2526 Accuracy 0.7120\n",
      "Time taken for 1 epoch: 64.75 secs\n",
      "\n",
      "Epoch 9 Batch 0 Loss 1.1089 Accurcy 0.7351\n",
      "Epoch 9 Batch 50 Loss 1.1581 Accurcy 0.7269\n",
      "Epoch 9 Batch 100 Loss 1.1786 Accurcy 0.7229\n",
      "Epoch 9 Batch 150 Loss 1.1949 Accurcy 0.7199\n",
      "Epoch 9 Batch 200 Loss 1.1977 Accurcy 0.7199\n",
      "Epoch 9 Batch 250 Loss 1.2004 Accurcy 0.7198\n",
      "Epoch 9 Batch 300 Loss 1.2011 Accurcy 0.7199\n",
      "Epoch 9 Batch 350 Loss 1.2049 Accurcy 0.7192\n",
      "Epoch 9 Batch 400 Loss 1.2083 Accurcy 0.7187\n",
      "Epoch 9 Batch 450 Loss 1.2102 Accurcy 0.7184\n",
      "Epoch 9 Batch 500 Loss 1.2122 Accurcy 0.7182\n",
      "Epoch 9 Batch 550 Loss 1.2158 Accurcy 0.7176\n",
      "Epoch 9 Batch 600 Loss 1.2178 Accurcy 0.7174\n",
      "Epoch 9 Batch 650 Loss 1.2218 Accurcy 0.7168\n",
      "Epoch 9 Batch 700 Loss 1.2256 Accurcy 0.7164\n",
      "Epoch 9 Batch 750 Loss 1.2292 Accurcy 0.7157\n",
      "Epoch 9 Batch 800 Loss 1.2313 Accurcy 0.7155\n",
      "Epoch 9 Loss 1.2319 Accuracy 0.7154\n",
      "Time taken for 1 epoch: 65.20 secs\n",
      "\n",
      "Epoch 10 Batch 0 Loss 1.0920 Accurcy 0.7436\n",
      "Epoch 10 Batch 50 Loss 1.1547 Accurcy 0.7286\n",
      "Epoch 10 Batch 100 Loss 1.1601 Accurcy 0.7281\n",
      "Epoch 10 Batch 150 Loss 1.1716 Accurcy 0.7256\n",
      "Epoch 10 Batch 200 Loss 1.1800 Accurcy 0.7237\n",
      "Epoch 10 Batch 250 Loss 1.1849 Accurcy 0.7231\n",
      "Epoch 10 Batch 300 Loss 1.1859 Accurcy 0.7229\n",
      "Epoch 10 Batch 350 Loss 1.1883 Accurcy 0.7225\n",
      "Epoch 10 Batch 400 Loss 1.1921 Accurcy 0.7220\n",
      "Epoch 10 Batch 450 Loss 1.1930 Accurcy 0.7219\n",
      "Epoch 10 Batch 500 Loss 1.1945 Accurcy 0.7215\n",
      "Epoch 10 Batch 550 Loss 1.1973 Accurcy 0.7211\n",
      "Epoch 10 Batch 600 Loss 1.2005 Accurcy 0.7206\n",
      "Epoch 10 Batch 650 Loss 1.2040 Accurcy 0.7200\n"
     ]
    },
    {
     "name": "stdout",
     "output_type": "stream",
     "text": [
      "Epoch 10 Batch 700 Loss 1.2073 Accurcy 0.7194\n",
      "Epoch 10 Batch 750 Loss 1.2092 Accurcy 0.7192\n",
      "Epoch 10 Batch 800 Loss 1.2127 Accurcy 0.7186\n",
      "Saving Checkpoint for epoch 10 at ./checkpoints/train/ckpt-6\n",
      "Epoch 10 Loss 1.2129 Accuracy 0.7186\n",
      "Time taken for 1 epoch: 65.31 secs\n",
      "\n",
      "Epoch 11 Batch 0 Loss 0.9458 Accurcy 0.7627\n",
      "Epoch 11 Batch 50 Loss 1.1457 Accurcy 0.7311\n",
      "Epoch 11 Batch 100 Loss 1.1494 Accurcy 0.7302\n",
      "Epoch 11 Batch 150 Loss 1.1528 Accurcy 0.7291\n",
      "Epoch 11 Batch 200 Loss 1.1557 Accurcy 0.7285\n",
      "Epoch 11 Batch 250 Loss 1.1636 Accurcy 0.7272\n",
      "Epoch 11 Batch 300 Loss 1.1646 Accurcy 0.7274\n",
      "Epoch 11 Batch 350 Loss 1.1675 Accurcy 0.7270\n",
      "Epoch 11 Batch 400 Loss 1.1704 Accurcy 0.7264\n",
      "Epoch 11 Batch 450 Loss 1.1726 Accurcy 0.7258\n",
      "Epoch 11 Batch 500 Loss 1.1762 Accurcy 0.7250\n",
      "Epoch 11 Batch 550 Loss 1.1782 Accurcy 0.7246\n",
      "Epoch 11 Batch 600 Loss 1.1824 Accurcy 0.7238\n",
      "Epoch 11 Batch 650 Loss 1.1840 Accurcy 0.7235\n",
      "Epoch 11 Batch 700 Loss 1.1878 Accurcy 0.7229\n",
      "Epoch 11 Batch 750 Loss 1.1917 Accurcy 0.7223\n",
      "Epoch 11 Batch 800 Loss 1.1946 Accurcy 0.7219\n",
      "Epoch 11 Loss 1.1950 Accuracy 0.7217\n",
      "Time taken for 1 epoch: 64.86 secs\n",
      "\n",
      "Epoch 12 Batch 0 Loss 1.2009 Accurcy 0.7123\n",
      "Epoch 12 Batch 50 Loss 1.1218 Accurcy 0.7339\n",
      "Epoch 12 Batch 100 Loss 1.1236 Accurcy 0.7347\n",
      "Epoch 12 Batch 150 Loss 1.1351 Accurcy 0.7328\n",
      "Epoch 12 Batch 200 Loss 1.1351 Accurcy 0.7332\n",
      "Epoch 12 Batch 250 Loss 1.1444 Accurcy 0.7311\n",
      "Epoch 12 Batch 300 Loss 1.1458 Accurcy 0.7306\n",
      "Epoch 12 Batch 350 Loss 1.1510 Accurcy 0.7297\n",
      "Epoch 12 Batch 400 Loss 1.1555 Accurcy 0.7288\n",
      "Epoch 12 Batch 450 Loss 1.1558 Accurcy 0.7288\n",
      "Epoch 12 Batch 500 Loss 1.1579 Accurcy 0.7284\n",
      "Epoch 12 Batch 550 Loss 1.1633 Accurcy 0.7273\n",
      "Epoch 12 Batch 600 Loss 1.1653 Accurcy 0.7270\n",
      "Epoch 12 Batch 650 Loss 1.1679 Accurcy 0.7264\n",
      "Epoch 12 Batch 700 Loss 1.1727 Accurcy 0.7255\n",
      "Epoch 12 Batch 750 Loss 1.1755 Accurcy 0.7250\n",
      "Epoch 12 Batch 800 Loss 1.1800 Accurcy 0.7242\n",
      "Epoch 12 Loss 1.1806 Accuracy 0.7241\n",
      "Time taken for 1 epoch: 64.92 secs\n",
      "\n",
      "Epoch 13 Batch 0 Loss 1.1046 Accurcy 0.7310\n",
      "Epoch 13 Batch 50 Loss 1.1138 Accurcy 0.7366\n",
      "Epoch 13 Batch 100 Loss 1.1152 Accurcy 0.7366\n",
      "Epoch 13 Batch 150 Loss 1.1293 Accurcy 0.7331\n",
      "Epoch 13 Batch 200 Loss 1.1301 Accurcy 0.7331\n",
      "Epoch 13 Batch 250 Loss 1.1317 Accurcy 0.7327\n",
      "Epoch 13 Batch 300 Loss 1.1325 Accurcy 0.7324\n",
      "Epoch 13 Batch 350 Loss 1.1318 Accurcy 0.7326\n",
      "Epoch 13 Batch 400 Loss 1.1349 Accurcy 0.7320\n",
      "Epoch 13 Batch 450 Loss 1.1387 Accurcy 0.7312\n",
      "Epoch 13 Batch 500 Loss 1.1431 Accurcy 0.7304\n",
      "Epoch 13 Batch 550 Loss 1.1453 Accurcy 0.7299\n",
      "Epoch 13 Batch 600 Loss 1.1496 Accurcy 0.7291\n",
      "Epoch 13 Batch 650 Loss 1.1518 Accurcy 0.7288\n",
      "Epoch 13 Batch 700 Loss 1.1542 Accurcy 0.7285\n",
      "Epoch 13 Batch 750 Loss 1.1577 Accurcy 0.7278\n",
      "Epoch 13 Batch 800 Loss 1.1626 Accurcy 0.7270\n",
      "Epoch 13 Loss 1.1630 Accuracy 0.7269\n",
      "Time taken for 1 epoch: 65.09 secs\n",
      "\n",
      "Epoch 14 Batch 0 Loss 1.0851 Accurcy 0.7401\n",
      "Epoch 14 Batch 50 Loss 1.0913 Accurcy 0.7402\n",
      "Epoch 14 Batch 100 Loss 1.1010 Accurcy 0.7385\n",
      "Epoch 14 Batch 150 Loss 1.1053 Accurcy 0.7377\n",
      "Epoch 14 Batch 200 Loss 1.1125 Accurcy 0.7358\n",
      "Epoch 14 Batch 250 Loss 1.1180 Accurcy 0.7347\n",
      "Epoch 14 Batch 300 Loss 1.1222 Accurcy 0.7343\n",
      "Epoch 14 Batch 350 Loss 1.1257 Accurcy 0.7337\n",
      "Epoch 14 Batch 400 Loss 1.1292 Accurcy 0.7329\n",
      "Epoch 14 Batch 450 Loss 1.1321 Accurcy 0.7323\n",
      "Epoch 14 Batch 500 Loss 1.1358 Accurcy 0.7317\n",
      "Epoch 14 Batch 550 Loss 1.1382 Accurcy 0.7314\n",
      "Epoch 14 Batch 600 Loss 1.1399 Accurcy 0.7311\n",
      "Epoch 14 Batch 650 Loss 1.1413 Accurcy 0.7310\n",
      "Epoch 14 Batch 700 Loss 1.1450 Accurcy 0.7303\n",
      "Epoch 14 Batch 750 Loss 1.1465 Accurcy 0.7301\n",
      "Epoch 14 Batch 800 Loss 1.1488 Accurcy 0.7297\n",
      "Epoch 14 Loss 1.1496 Accuracy 0.7295\n",
      "Time taken for 1 epoch: 65.01 secs\n",
      "\n",
      "Epoch 15 Batch 0 Loss 1.0802 Accurcy 0.7457\n",
      "Epoch 15 Batch 50 Loss 1.0740 Accurcy 0.7435\n",
      "Epoch 15 Batch 100 Loss 1.0837 Accurcy 0.7413\n",
      "Epoch 15 Batch 150 Loss 1.0869 Accurcy 0.7410\n",
      "Epoch 15 Batch 200 Loss 1.0919 Accurcy 0.7399\n",
      "Epoch 15 Batch 250 Loss 1.0972 Accurcy 0.7390\n",
      "Epoch 15 Batch 300 Loss 1.1032 Accurcy 0.7380\n",
      "Epoch 15 Batch 350 Loss 1.1060 Accurcy 0.7377\n",
      "Epoch 15 Batch 400 Loss 1.1090 Accurcy 0.7371\n",
      "Epoch 15 Batch 450 Loss 1.1127 Accurcy 0.7364\n",
      "Epoch 15 Batch 500 Loss 1.1156 Accurcy 0.7359\n",
      "Epoch 15 Batch 550 Loss 1.1190 Accurcy 0.7353\n",
      "Epoch 15 Batch 600 Loss 1.1233 Accurcy 0.7344\n",
      "Epoch 15 Batch 650 Loss 1.1257 Accurcy 0.7341\n",
      "Epoch 15 Batch 700 Loss 1.1283 Accurcy 0.7336\n",
      "Epoch 15 Batch 750 Loss 1.1304 Accurcy 0.7331\n",
      "Epoch 15 Batch 800 Loss 1.1345 Accurcy 0.7324\n",
      "Saving Checkpoint for epoch 15 at ./checkpoints/train/ckpt-7\n",
      "Epoch 15 Loss 1.1352 Accuracy 0.7323\n",
      "Time taken for 1 epoch: 64.81 secs\n",
      "\n",
      "Epoch 16 Batch 0 Loss 1.0445 Accurcy 0.7456\n",
      "Epoch 16 Batch 50 Loss 1.0699 Accurcy 0.7435\n",
      "Epoch 16 Batch 100 Loss 1.0704 Accurcy 0.7439\n",
      "Epoch 16 Batch 150 Loss 1.0771 Accurcy 0.7431\n",
      "Epoch 16 Batch 200 Loss 1.0784 Accurcy 0.7425\n",
      "Epoch 16 Batch 250 Loss 1.0838 Accurcy 0.7410\n",
      "Epoch 16 Batch 300 Loss 1.0909 Accurcy 0.7398\n",
      "Epoch 16 Batch 350 Loss 1.0951 Accurcy 0.7392\n",
      "Epoch 16 Batch 400 Loss 1.0994 Accurcy 0.7385\n",
      "Epoch 16 Batch 450 Loss 1.1022 Accurcy 0.7379\n",
      "Epoch 16 Batch 500 Loss 1.1044 Accurcy 0.7375\n",
      "Epoch 16 Batch 550 Loss 1.1078 Accurcy 0.7368\n",
      "Epoch 16 Batch 600 Loss 1.1097 Accurcy 0.7364\n",
      "Epoch 16 Batch 650 Loss 1.1130 Accurcy 0.7358\n",
      "Epoch 16 Batch 700 Loss 1.1161 Accurcy 0.7354\n",
      "Epoch 16 Batch 750 Loss 1.1187 Accurcy 0.7350\n",
      "Epoch 16 Batch 800 Loss 1.1224 Accurcy 0.7343\n",
      "Epoch 16 Loss 1.1230 Accuracy 0.7343\n",
      "Time taken for 1 epoch: 64.64 secs\n",
      "\n",
      "Epoch 17 Batch 0 Loss 1.0256 Accurcy 0.7592\n",
      "Epoch 17 Batch 50 Loss 1.0626 Accurcy 0.7440\n",
      "Epoch 17 Batch 100 Loss 1.0616 Accurcy 0.7444\n",
      "Epoch 17 Batch 150 Loss 1.0639 Accurcy 0.7450\n",
      "Epoch 17 Batch 200 Loss 1.0732 Accurcy 0.7434\n",
      "Epoch 17 Batch 250 Loss 1.0787 Accurcy 0.7424\n",
      "Epoch 17 Batch 300 Loss 1.0823 Accurcy 0.7415\n",
      "Epoch 17 Batch 350 Loss 1.0864 Accurcy 0.7406\n",
      "Epoch 17 Batch 400 Loss 1.0869 Accurcy 0.7407\n",
      "Epoch 17 Batch 450 Loss 1.0914 Accurcy 0.7397\n",
      "Epoch 17 Batch 500 Loss 1.0925 Accurcy 0.7394\n",
      "Epoch 17 Batch 550 Loss 1.0950 Accurcy 0.7389\n",
      "Epoch 17 Batch 600 Loss 1.0978 Accurcy 0.7384\n",
      "Epoch 17 Batch 650 Loss 1.1002 Accurcy 0.7380\n",
      "Epoch 17 Batch 700 Loss 1.1040 Accurcy 0.7373\n",
      "Epoch 17 Batch 750 Loss 1.1074 Accurcy 0.7367\n",
      "Epoch 17 Batch 800 Loss 1.1095 Accurcy 0.7365\n",
      "Epoch 17 Loss 1.1100 Accuracy 0.7364\n",
      "Time taken for 1 epoch: 64.60 secs\n",
      "\n",
      "Epoch 18 Batch 0 Loss 0.9664 Accurcy 0.7762\n",
      "Epoch 18 Batch 50 Loss 1.0302 Accurcy 0.7514\n",
      "Epoch 18 Batch 100 Loss 1.0452 Accurcy 0.7486\n",
      "Epoch 18 Batch 150 Loss 1.0568 Accurcy 0.7458\n",
      "Epoch 18 Batch 200 Loss 1.0601 Accurcy 0.7453\n",
      "Epoch 18 Batch 250 Loss 1.0625 Accurcy 0.7451\n",
      "Epoch 18 Batch 300 Loss 1.0652 Accurcy 0.7445\n",
      "Epoch 18 Batch 350 Loss 1.0647 Accurcy 0.7446\n",
      "Epoch 18 Batch 400 Loss 1.0697 Accurcy 0.7435\n",
      "Epoch 18 Batch 450 Loss 1.0725 Accurcy 0.7429\n",
      "Epoch 18 Batch 500 Loss 1.0759 Accurcy 0.7423\n",
      "Epoch 18 Batch 550 Loss 1.0792 Accurcy 0.7416\n",
      "Epoch 18 Batch 600 Loss 1.0810 Accurcy 0.7414\n",
      "Epoch 18 Batch 650 Loss 1.0859 Accurcy 0.7406\n",
      "Epoch 18 Batch 700 Loss 1.0895 Accurcy 0.7399\n",
      "Epoch 18 Batch 750 Loss 1.0937 Accurcy 0.7393\n",
      "Epoch 18 Batch 800 Loss 1.0974 Accurcy 0.7386\n",
      "Epoch 18 Loss 1.0984 Accuracy 0.7384\n",
      "Time taken for 1 epoch: 64.47 secs\n",
      "\n",
      "Epoch 19 Batch 0 Loss 0.9638 Accurcy 0.7650\n",
      "Epoch 19 Batch 50 Loss 1.0409 Accurcy 0.7489\n",
      "Epoch 19 Batch 100 Loss 1.0378 Accurcy 0.7493\n",
      "Epoch 19 Batch 150 Loss 1.0469 Accurcy 0.7475\n",
      "Epoch 19 Batch 200 Loss 1.0507 Accurcy 0.7469\n",
      "Epoch 19 Batch 250 Loss 1.0527 Accurcy 0.7470\n",
      "Epoch 19 Batch 300 Loss 1.0558 Accurcy 0.7462\n",
      "Epoch 19 Batch 350 Loss 1.0576 Accurcy 0.7459\n",
      "Epoch 19 Batch 400 Loss 1.0623 Accurcy 0.7449\n",
      "Epoch 19 Batch 450 Loss 1.0637 Accurcy 0.7446\n",
      "Epoch 19 Batch 500 Loss 1.0657 Accurcy 0.7442\n",
      "Epoch 19 Batch 550 Loss 1.0677 Accurcy 0.7440\n",
      "Epoch 19 Batch 600 Loss 1.0698 Accurcy 0.7437\n",
      "Epoch 19 Batch 650 Loss 1.0738 Accurcy 0.7429\n",
      "Epoch 19 Batch 700 Loss 1.0772 Accurcy 0.7424\n",
      "Epoch 19 Batch 750 Loss 1.0811 Accurcy 0.7415\n",
      "Epoch 19 Batch 800 Loss 1.0844 Accurcy 0.7411\n",
      "Epoch 19 Loss 1.0850 Accuracy 0.7409\n",
      "Time taken for 1 epoch: 64.67 secs\n",
      "\n",
      "Epoch 20 Batch 0 Loss 1.0081 Accurcy 0.7496\n",
      "Epoch 20 Batch 50 Loss 1.0284 Accurcy 0.7489\n",
      "Epoch 20 Batch 100 Loss 1.0333 Accurcy 0.7487\n",
      "Epoch 20 Batch 150 Loss 1.0328 Accurcy 0.7502\n",
      "Epoch 20 Batch 200 Loss 1.0363 Accurcy 0.7491\n"
     ]
    },
    {
     "name": "stdout",
     "output_type": "stream",
     "text": [
      "Epoch 20 Batch 250 Loss 1.0463 Accurcy 0.7474\n",
      "Epoch 20 Batch 300 Loss 1.0513 Accurcy 0.7461\n",
      "Epoch 20 Batch 350 Loss 1.0503 Accurcy 0.7464\n",
      "Epoch 20 Batch 400 Loss 1.0552 Accurcy 0.7458\n",
      "Epoch 20 Batch 450 Loss 1.0597 Accurcy 0.7449\n",
      "Epoch 20 Batch 500 Loss 1.0611 Accurcy 0.7446\n",
      "Epoch 20 Batch 550 Loss 1.0621 Accurcy 0.7444\n",
      "Epoch 20 Batch 600 Loss 1.0634 Accurcy 0.7442\n",
      "Epoch 20 Batch 650 Loss 1.0655 Accurcy 0.7439\n",
      "Epoch 20 Batch 700 Loss 1.0685 Accurcy 0.7434\n",
      "Epoch 20 Batch 750 Loss 1.0712 Accurcy 0.7429\n",
      "Epoch 20 Batch 800 Loss 1.0740 Accurcy 0.7425\n",
      "Saving Checkpoint for epoch 20 at ./checkpoints/train/ckpt-8\n",
      "Epoch 20 Loss 1.0748 Accuracy 0.7423\n",
      "Time taken for 1 epoch: 64.63 secs\n",
      "\n"
     ]
    }
   ],
   "source": [
    "for epoch in range(EPOCHS):\n",
    "    start = time.time()\n",
    "    \n",
    "    train_loss.reset_states()\n",
    "    train_accuracy.reset_states()\n",
    "    \n",
    "    for (batch, (inp, tar)) in enumerate(train_batches):\n",
    "        train_step(inp, tar)\n",
    "        \n",
    "        if batch % 50 == 0:\n",
    "            print(f'Epoch {epoch + 1} Batch {batch} Loss {train_loss.result():.4f} Accurcy {train_accuracy.result():.4f}')\n",
    "    \n",
    "    if (epoch + 1) % 5 ==0:\n",
    "        ckpt_save_path = ckpt_manager.save()\n",
    "        print(f'Saving Checkpoint for epoch {epoch +1} at {ckpt_save_path}')\n",
    "        \n",
    "    print(f'Epoch {epoch + 1} Loss {train_loss.result():.4f} Accuracy {train_accuracy.result():.4f}')\n",
    "    \n",
    "    print(f'Time taken for 1 epoch: {time.time() - start:.2f} secs\\n')"
   ]
  },
  {
   "cell_type": "code",
   "execution_count": 61,
   "metadata": {},
   "outputs": [],
   "source": [
    "def evaluate(sentence, max_length=40):\n",
    "    \n",
    "    sentence = tf.convert_to_tensor([sentence])\n",
    "    sentence = tokenizers.pt.tokenize(sentence).to_tensor()\n",
    "    \n",
    "    encoder_input = sentence\n",
    "    \n",
    "    start, end = tokenizers.en.tokenize([''])[0]\n",
    "    output = tf.convert_to_tensor([start])\n",
    "    output = tf.expand_dims(output, 0)\n",
    "    \n",
    "    for i in range(max_length):\n",
    "        enc_padding_mask, combined_mask, dec_padding_mask = create_masks(encoder_input, output)\n",
    "        \n",
    "        predictions, attention_weights = transformer(encoder_input, output, False, enc_padding_mask, combined_mask, dec_padding_mask)\n",
    "        \n",
    "        predictions = predictions[:, -1:, :]\n",
    "        predicted_id = tf.argmax(predictions, axis=-1)\n",
    "        \n",
    "        output = tf.concat([output, predicted_id], axis=-1)\n",
    "        \n",
    "        if predicted_id == end:\n",
    "            break\n",
    "            \n",
    "    text = tokenizers.en.detokenize(output)[0]\n",
    "    \n",
    "    tokens = tokenizers.en.lookup(output)[0]\n",
    "    \n",
    "    return text, tokens, attention_weights"
   ]
  },
  {
   "cell_type": "code",
   "execution_count": 62,
   "metadata": {},
   "outputs": [],
   "source": [
    "def print_translation(sentence, tokens, ground_truth):\n",
    "    print(f'{\"Input:\":15s}: {sentence}')\n",
    "    print(f'{\"Prediction\":15s}: {tokens.numpy().decode(\"utf-8\")}')\n",
    "    print(f'{\"Ground truth\":15s}: {ground_truth}')"
   ]
  },
  {
   "cell_type": "markdown",
   "metadata": {},
   "source": [
    "# Test 1"
   ]
  },
  {
   "cell_type": "code",
   "execution_count": 63,
   "metadata": {},
   "outputs": [],
   "source": [
    "sentence = \"este é um problema que temos que resolver.\"\n",
    "ground_truth = \"this is a problem we have to solve .\""
   ]
  },
  {
   "cell_type": "code",
   "execution_count": 64,
   "metadata": {},
   "outputs": [
    {
     "name": "stdout",
     "output_type": "stream",
     "text": [
      "WARNING:tensorflow:10 out of the last 10 calls to <function recreate_function.<locals>.restored_function_body at 0x7fadf544f680> triggered tf.function retracing. Tracing is expensive and the excessive number of tracings could be due to (1) creating @tf.function repeatedly in a loop, (2) passing tensors with different shapes, (3) passing Python objects instead of tensors. For (1), please define your @tf.function outside of the loop. For (2), @tf.function has experimental_relax_shapes=True option that relaxes argument shapes that can avoid unnecessary retracing. For (3), please refer to https://www.tensorflow.org/guide/function#controlling_retracing and https://www.tensorflow.org/api_docs/python/tf/function for  more details.\n"
     ]
    },
    {
     "name": "stderr",
     "output_type": "stream",
     "text": [
      "WARNING:tensorflow:10 out of the last 10 calls to <function recreate_function.<locals>.restored_function_body at 0x7fadf544f680> triggered tf.function retracing. Tracing is expensive and the excessive number of tracings could be due to (1) creating @tf.function repeatedly in a loop, (2) passing tensors with different shapes, (3) passing Python objects instead of tensors. For (1), please define your @tf.function outside of the loop. For (2), @tf.function has experimental_relax_shapes=True option that relaxes argument shapes that can avoid unnecessary retracing. For (3), please refer to https://www.tensorflow.org/guide/function#controlling_retracing and https://www.tensorflow.org/api_docs/python/tf/function for  more details.\n"
     ]
    },
    {
     "name": "stdout",
     "output_type": "stream",
     "text": [
      "WARNING:tensorflow:11 out of the last 11 calls to <function recreate_function.<locals>.restored_function_body at 0x7fae4c2107a0> triggered tf.function retracing. Tracing is expensive and the excessive number of tracings could be due to (1) creating @tf.function repeatedly in a loop, (2) passing tensors with different shapes, (3) passing Python objects instead of tensors. For (1), please define your @tf.function outside of the loop. For (2), @tf.function has experimental_relax_shapes=True option that relaxes argument shapes that can avoid unnecessary retracing. For (3), please refer to https://www.tensorflow.org/guide/function#controlling_retracing and https://www.tensorflow.org/api_docs/python/tf/function for  more details.\n"
     ]
    },
    {
     "name": "stderr",
     "output_type": "stream",
     "text": [
      "WARNING:tensorflow:11 out of the last 11 calls to <function recreate_function.<locals>.restored_function_body at 0x7fae4c2107a0> triggered tf.function retracing. Tracing is expensive and the excessive number of tracings could be due to (1) creating @tf.function repeatedly in a loop, (2) passing tensors with different shapes, (3) passing Python objects instead of tensors. For (1), please define your @tf.function outside of the loop. For (2), @tf.function has experimental_relax_shapes=True option that relaxes argument shapes that can avoid unnecessary retracing. For (3), please refer to https://www.tensorflow.org/guide/function#controlling_retracing and https://www.tensorflow.org/api_docs/python/tf/function for  more details.\n"
     ]
    },
    {
     "name": "stdout",
     "output_type": "stream",
     "text": [
      "WARNING:tensorflow:11 out of the last 11 calls to <function recreate_function.<locals>.restored_function_body at 0x7fadf544fd40> triggered tf.function retracing. Tracing is expensive and the excessive number of tracings could be due to (1) creating @tf.function repeatedly in a loop, (2) passing tensors with different shapes, (3) passing Python objects instead of tensors. For (1), please define your @tf.function outside of the loop. For (2), @tf.function has experimental_relax_shapes=True option that relaxes argument shapes that can avoid unnecessary retracing. For (3), please refer to https://www.tensorflow.org/guide/function#controlling_retracing and https://www.tensorflow.org/api_docs/python/tf/function for  more details.\n"
     ]
    },
    {
     "name": "stderr",
     "output_type": "stream",
     "text": [
      "WARNING:tensorflow:11 out of the last 11 calls to <function recreate_function.<locals>.restored_function_body at 0x7fadf544fd40> triggered tf.function retracing. Tracing is expensive and the excessive number of tracings could be due to (1) creating @tf.function repeatedly in a loop, (2) passing tensors with different shapes, (3) passing Python objects instead of tensors. For (1), please define your @tf.function outside of the loop. For (2), @tf.function has experimental_relax_shapes=True option that relaxes argument shapes that can avoid unnecessary retracing. For (3), please refer to https://www.tensorflow.org/guide/function#controlling_retracing and https://www.tensorflow.org/api_docs/python/tf/function for  more details.\n"
     ]
    },
    {
     "name": "stdout",
     "output_type": "stream",
     "text": [
      "WARNING:tensorflow:11 out of the last 11 calls to <function recreate_function.<locals>.restored_function_body at 0x7fadf4231e60> triggered tf.function retracing. Tracing is expensive and the excessive number of tracings could be due to (1) creating @tf.function repeatedly in a loop, (2) passing tensors with different shapes, (3) passing Python objects instead of tensors. For (1), please define your @tf.function outside of the loop. For (2), @tf.function has experimental_relax_shapes=True option that relaxes argument shapes that can avoid unnecessary retracing. For (3), please refer to https://www.tensorflow.org/guide/function#controlling_retracing and https://www.tensorflow.org/api_docs/python/tf/function for  more details.\n"
     ]
    },
    {
     "name": "stderr",
     "output_type": "stream",
     "text": [
      "WARNING:tensorflow:11 out of the last 11 calls to <function recreate_function.<locals>.restored_function_body at 0x7fadf4231e60> triggered tf.function retracing. Tracing is expensive and the excessive number of tracings could be due to (1) creating @tf.function repeatedly in a loop, (2) passing tensors with different shapes, (3) passing Python objects instead of tensors. For (1), please define your @tf.function outside of the loop. For (2), @tf.function has experimental_relax_shapes=True option that relaxes argument shapes that can avoid unnecessary retracing. For (3), please refer to https://www.tensorflow.org/guide/function#controlling_retracing and https://www.tensorflow.org/api_docs/python/tf/function for  more details.\n"
     ]
    },
    {
     "name": "stdout",
     "output_type": "stream",
     "text": [
      "Input:         : este é um problema que temos que resolver.\n",
      "Prediction     : this is a problem that we have to solve .\n",
      "Ground truth   : this is a problem we have to solve .\n"
     ]
    }
   ],
   "source": [
    "translated_text, translated_tokens, attention_weights = evaluate(sentence)\n",
    "print_translation(sentence, translated_text, ground_truth)"
   ]
  },
  {
   "cell_type": "markdown",
   "metadata": {},
   "source": [
    "# Test 2"
   ]
  },
  {
   "cell_type": "code",
   "execution_count": 65,
   "metadata": {},
   "outputs": [],
   "source": [
    "sentence = \"os meus vizinhos ouviram sobre esta ideia.\"\n",
    "ground_truth = \"and my neighboring homes heard about this idea .\""
   ]
  },
  {
   "cell_type": "code",
   "execution_count": 66,
   "metadata": {},
   "outputs": [
    {
     "name": "stdout",
     "output_type": "stream",
     "text": [
      "WARNING:tensorflow:9 out of the last 11 calls to <function recreate_function.<locals>.restored_function_body at 0x7fadf544fd40> triggered tf.function retracing. Tracing is expensive and the excessive number of tracings could be due to (1) creating @tf.function repeatedly in a loop, (2) passing tensors with different shapes, (3) passing Python objects instead of tensors. For (1), please define your @tf.function outside of the loop. For (2), @tf.function has experimental_relax_shapes=True option that relaxes argument shapes that can avoid unnecessary retracing. For (3), please refer to https://www.tensorflow.org/guide/function#controlling_retracing and https://www.tensorflow.org/api_docs/python/tf/function for  more details.\n"
     ]
    },
    {
     "name": "stderr",
     "output_type": "stream",
     "text": [
      "WARNING:tensorflow:9 out of the last 11 calls to <function recreate_function.<locals>.restored_function_body at 0x7fadf544fd40> triggered tf.function retracing. Tracing is expensive and the excessive number of tracings could be due to (1) creating @tf.function repeatedly in a loop, (2) passing tensors with different shapes, (3) passing Python objects instead of tensors. For (1), please define your @tf.function outside of the loop. For (2), @tf.function has experimental_relax_shapes=True option that relaxes argument shapes that can avoid unnecessary retracing. For (3), please refer to https://www.tensorflow.org/guide/function#controlling_retracing and https://www.tensorflow.org/api_docs/python/tf/function for  more details.\n"
     ]
    },
    {
     "name": "stdout",
     "output_type": "stream",
     "text": [
      "WARNING:tensorflow:9 out of the last 11 calls to <function recreate_function.<locals>.restored_function_body at 0x7fadf4231e60> triggered tf.function retracing. Tracing is expensive and the excessive number of tracings could be due to (1) creating @tf.function repeatedly in a loop, (2) passing tensors with different shapes, (3) passing Python objects instead of tensors. For (1), please define your @tf.function outside of the loop. For (2), @tf.function has experimental_relax_shapes=True option that relaxes argument shapes that can avoid unnecessary retracing. For (3), please refer to https://www.tensorflow.org/guide/function#controlling_retracing and https://www.tensorflow.org/api_docs/python/tf/function for  more details.\n"
     ]
    },
    {
     "name": "stderr",
     "output_type": "stream",
     "text": [
      "WARNING:tensorflow:9 out of the last 11 calls to <function recreate_function.<locals>.restored_function_body at 0x7fadf4231e60> triggered tf.function retracing. Tracing is expensive and the excessive number of tracings could be due to (1) creating @tf.function repeatedly in a loop, (2) passing tensors with different shapes, (3) passing Python objects instead of tensors. For (1), please define your @tf.function outside of the loop. For (2), @tf.function has experimental_relax_shapes=True option that relaxes argument shapes that can avoid unnecessary retracing. For (3), please refer to https://www.tensorflow.org/guide/function#controlling_retracing and https://www.tensorflow.org/api_docs/python/tf/function for  more details.\n"
     ]
    },
    {
     "name": "stdout",
     "output_type": "stream",
     "text": [
      "Input:         : os meus vizinhos ouviram sobre esta ideia.\n",
      "Prediction     : my neighbors heard about this idea .\n",
      "Ground truth   : and my neighboring homes heard about this idea .\n"
     ]
    }
   ],
   "source": [
    "translated_text, translated_tokens, attention_weights = evaluate(sentence)\n",
    "print_translation(sentence, translated_text, ground_truth)"
   ]
  },
  {
   "cell_type": "markdown",
   "metadata": {},
   "source": [
    "# Test 3"
   ]
  },
  {
   "cell_type": "code",
   "execution_count": 67,
   "metadata": {},
   "outputs": [],
   "source": [
    "sentence = \"vou então muito rapidamente partilhar convosco algumas histórias de algumas coisas mágicas que aconteceram.\"\n",
    "ground_truth = \"so i \\'ll just share with you some stories very quickly of some magical things that have happened .\""
   ]
  },
  {
   "cell_type": "code",
   "execution_count": 68,
   "metadata": {},
   "outputs": [
    {
     "name": "stdout",
     "output_type": "stream",
     "text": [
      "WARNING:tensorflow:7 out of the last 11 calls to <function recreate_function.<locals>.restored_function_body at 0x7fadf544fd40> triggered tf.function retracing. Tracing is expensive and the excessive number of tracings could be due to (1) creating @tf.function repeatedly in a loop, (2) passing tensors with different shapes, (3) passing Python objects instead of tensors. For (1), please define your @tf.function outside of the loop. For (2), @tf.function has experimental_relax_shapes=True option that relaxes argument shapes that can avoid unnecessary retracing. For (3), please refer to https://www.tensorflow.org/guide/function#controlling_retracing and https://www.tensorflow.org/api_docs/python/tf/function for  more details.\n"
     ]
    },
    {
     "name": "stderr",
     "output_type": "stream",
     "text": [
      "WARNING:tensorflow:7 out of the last 11 calls to <function recreate_function.<locals>.restored_function_body at 0x7fadf544fd40> triggered tf.function retracing. Tracing is expensive and the excessive number of tracings could be due to (1) creating @tf.function repeatedly in a loop, (2) passing tensors with different shapes, (3) passing Python objects instead of tensors. For (1), please define your @tf.function outside of the loop. For (2), @tf.function has experimental_relax_shapes=True option that relaxes argument shapes that can avoid unnecessary retracing. For (3), please refer to https://www.tensorflow.org/guide/function#controlling_retracing and https://www.tensorflow.org/api_docs/python/tf/function for  more details.\n"
     ]
    },
    {
     "name": "stdout",
     "output_type": "stream",
     "text": [
      "WARNING:tensorflow:7 out of the last 11 calls to <function recreate_function.<locals>.restored_function_body at 0x7fadf4231e60> triggered tf.function retracing. Tracing is expensive and the excessive number of tracings could be due to (1) creating @tf.function repeatedly in a loop, (2) passing tensors with different shapes, (3) passing Python objects instead of tensors. For (1), please define your @tf.function outside of the loop. For (2), @tf.function has experimental_relax_shapes=True option that relaxes argument shapes that can avoid unnecessary retracing. For (3), please refer to https://www.tensorflow.org/guide/function#controlling_retracing and https://www.tensorflow.org/api_docs/python/tf/function for  more details.\n"
     ]
    },
    {
     "name": "stderr",
     "output_type": "stream",
     "text": [
      "WARNING:tensorflow:7 out of the last 11 calls to <function recreate_function.<locals>.restored_function_body at 0x7fadf4231e60> triggered tf.function retracing. Tracing is expensive and the excessive number of tracings could be due to (1) creating @tf.function repeatedly in a loop, (2) passing tensors with different shapes, (3) passing Python objects instead of tensors. For (1), please define your @tf.function outside of the loop. For (2), @tf.function has experimental_relax_shapes=True option that relaxes argument shapes that can avoid unnecessary retracing. For (3), please refer to https://www.tensorflow.org/guide/function#controlling_retracing and https://www.tensorflow.org/api_docs/python/tf/function for  more details.\n"
     ]
    },
    {
     "name": "stdout",
     "output_type": "stream",
     "text": [
      "Input:         : vou então muito rapidamente partilhar convosco algumas histórias de algumas coisas mágicas que aconteceram.\n",
      "Prediction     : so i ' m going to very quickly with you a few stories from some bad things that happened .\n",
      "Ground truth   : so i 'll just share with you some stories very quickly of some magical things that have happened .\n"
     ]
    }
   ],
   "source": [
    "translated_text, translated_tokens, attention_weights = evaluate(sentence)\n",
    "print_translation(sentence, translated_text, ground_truth)"
   ]
  },
  {
   "cell_type": "markdown",
   "metadata": {},
   "source": [
    "# Attention plots"
   ]
  },
  {
   "cell_type": "code",
   "execution_count": 69,
   "metadata": {},
   "outputs": [],
   "source": [
    "sentence = \"este é o primeiro livro que eu fiz.\"\n",
    "ground_truth = \"this is the first book i've ever done.\""
   ]
  },
  {
   "cell_type": "code",
   "execution_count": 70,
   "metadata": {},
   "outputs": [
    {
     "name": "stdout",
     "output_type": "stream",
     "text": [
      "WARNING:tensorflow:6 out of the last 12 calls to <function recreate_function.<locals>.restored_function_body at 0x7fadf544fd40> triggered tf.function retracing. Tracing is expensive and the excessive number of tracings could be due to (1) creating @tf.function repeatedly in a loop, (2) passing tensors with different shapes, (3) passing Python objects instead of tensors. For (1), please define your @tf.function outside of the loop. For (2), @tf.function has experimental_relax_shapes=True option that relaxes argument shapes that can avoid unnecessary retracing. For (3), please refer to https://www.tensorflow.org/guide/function#controlling_retracing and https://www.tensorflow.org/api_docs/python/tf/function for  more details.\n"
     ]
    },
    {
     "name": "stderr",
     "output_type": "stream",
     "text": [
      "WARNING:tensorflow:6 out of the last 12 calls to <function recreate_function.<locals>.restored_function_body at 0x7fadf544fd40> triggered tf.function retracing. Tracing is expensive and the excessive number of tracings could be due to (1) creating @tf.function repeatedly in a loop, (2) passing tensors with different shapes, (3) passing Python objects instead of tensors. For (1), please define your @tf.function outside of the loop. For (2), @tf.function has experimental_relax_shapes=True option that relaxes argument shapes that can avoid unnecessary retracing. For (3), please refer to https://www.tensorflow.org/guide/function#controlling_retracing and https://www.tensorflow.org/api_docs/python/tf/function for  more details.\n"
     ]
    },
    {
     "name": "stdout",
     "output_type": "stream",
     "text": [
      "WARNING:tensorflow:7 out of the last 13 calls to <function recreate_function.<locals>.restored_function_body at 0x7fadf4231e60> triggered tf.function retracing. Tracing is expensive and the excessive number of tracings could be due to (1) creating @tf.function repeatedly in a loop, (2) passing tensors with different shapes, (3) passing Python objects instead of tensors. For (1), please define your @tf.function outside of the loop. For (2), @tf.function has experimental_relax_shapes=True option that relaxes argument shapes that can avoid unnecessary retracing. For (3), please refer to https://www.tensorflow.org/guide/function#controlling_retracing and https://www.tensorflow.org/api_docs/python/tf/function for  more details.\n"
     ]
    },
    {
     "name": "stderr",
     "output_type": "stream",
     "text": [
      "WARNING:tensorflow:7 out of the last 13 calls to <function recreate_function.<locals>.restored_function_body at 0x7fadf4231e60> triggered tf.function retracing. Tracing is expensive and the excessive number of tracings could be due to (1) creating @tf.function repeatedly in a loop, (2) passing tensors with different shapes, (3) passing Python objects instead of tensors. For (1), please define your @tf.function outside of the loop. For (2), @tf.function has experimental_relax_shapes=True option that relaxes argument shapes that can avoid unnecessary retracing. For (3), please refer to https://www.tensorflow.org/guide/function#controlling_retracing and https://www.tensorflow.org/api_docs/python/tf/function for  more details.\n"
     ]
    },
    {
     "name": "stdout",
     "output_type": "stream",
     "text": [
      "Input:         : este é o primeiro livro que eu fiz.\n",
      "Prediction     : this is the first book i did .\n",
      "Ground truth   : this is the first book i've ever done.\n"
     ]
    }
   ],
   "source": [
    "translated_text, translated_tokens, attention_weights = evaluate(sentence)\n",
    "print_translation(sentence, translated_text, ground_truth)"
   ]
  },
  {
   "cell_type": "code",
   "execution_count": 71,
   "metadata": {},
   "outputs": [],
   "source": [
    "def plot_attention_head(in_tokens, translated_tokens, attention):\n",
    "    translated_tokens = translated_tokens[1:]\n",
    "    \n",
    "    ax = plt.gca()\n",
    "    ax.matshow(attention)\n",
    "    ax.set_xticks(range(len(in_tokens)))\n",
    "    ax.set_yticks(range(len(translated_tokens)))\n",
    "    \n",
    "    labels = [label.decode('utf-8') for label in in_tokens.numpy()]\n",
    "    ax.set_xticklabels(labels, rotation=90)\n",
    "    \n",
    "    labels = [label.decode('utf-8') for label in translated_tokens.numpy()]\n",
    "    ax.set_yticklabels(labels)"
   ]
  },
  {
   "cell_type": "code",
   "execution_count": 72,
   "metadata": {},
   "outputs": [
    {
     "data": {
      "text/plain": [
       "TensorShape([9, 11])"
      ]
     },
     "execution_count": 72,
     "metadata": {},
     "output_type": "execute_result"
    }
   ],
   "source": [
    "head = 0\n",
    "# shape: (batch=1, num_heads, seq_len_q, seq_len_k)\n",
    "\n",
    "attention_heads = tf.squeeze(attention_weights['decoder_layer4_block2'], 0)\n",
    "attention = attention_heads[head]\n",
    "attention.shape"
   ]
  },
  {
   "cell_type": "code",
   "execution_count": 73,
   "metadata": {},
   "outputs": [
    {
     "name": "stdout",
     "output_type": "stream",
     "text": [
      "WARNING:tensorflow:6 out of the last 11 calls to <function recreate_function.<locals>.restored_function_body at 0x7fadf4231f80> triggered tf.function retracing. Tracing is expensive and the excessive number of tracings could be due to (1) creating @tf.function repeatedly in a loop, (2) passing tensors with different shapes, (3) passing Python objects instead of tensors. For (1), please define your @tf.function outside of the loop. For (2), @tf.function has experimental_relax_shapes=True option that relaxes argument shapes that can avoid unnecessary retracing. For (3), please refer to https://www.tensorflow.org/guide/function#controlling_retracing and https://www.tensorflow.org/api_docs/python/tf/function for  more details.\n"
     ]
    },
    {
     "name": "stderr",
     "output_type": "stream",
     "text": [
      "WARNING:tensorflow:6 out of the last 11 calls to <function recreate_function.<locals>.restored_function_body at 0x7fadf4231f80> triggered tf.function retracing. Tracing is expensive and the excessive number of tracings could be due to (1) creating @tf.function repeatedly in a loop, (2) passing tensors with different shapes, (3) passing Python objects instead of tensors. For (1), please define your @tf.function outside of the loop. For (2), @tf.function has experimental_relax_shapes=True option that relaxes argument shapes that can avoid unnecessary retracing. For (3), please refer to https://www.tensorflow.org/guide/function#controlling_retracing and https://www.tensorflow.org/api_docs/python/tf/function for  more details.\n"
     ]
    },
    {
     "data": {
      "text/plain": [
       "<tf.Tensor: shape=(11,), dtype=string, numpy=\n",
       "array([b'[START]', b'este', b'e', b'o', b'primeiro', b'livro', b'que',\n",
       "       b'eu', b'fiz', b'.', b'[END]'], dtype=object)>"
      ]
     },
     "execution_count": 73,
     "metadata": {},
     "output_type": "execute_result"
    }
   ],
   "source": [
    "in_tokens = tf.convert_to_tensor([sentence])\n",
    "in_tokens = tokenizers.pt.tokenize(in_tokens).to_tensor()\n",
    "in_tokens = tokenizers.pt.lookup(in_tokens)[0]\n",
    "in_tokens"
   ]
  },
  {
   "cell_type": "code",
   "execution_count": 74,
   "metadata": {},
   "outputs": [
    {
     "data": {
      "text/plain": [
       "<tf.Tensor: shape=(10,), dtype=string, numpy=\n",
       "array([b'[START]', b'this', b'is', b'the', b'first', b'book', b'i',\n",
       "       b'did', b'.', b'[END]'], dtype=object)>"
      ]
     },
     "execution_count": 74,
     "metadata": {},
     "output_type": "execute_result"
    }
   ],
   "source": [
    "translated_tokens"
   ]
  },
  {
   "cell_type": "code",
   "execution_count": 75,
   "metadata": {},
   "outputs": [
    {
     "data": {
      "image/png": "[encoded data removed]",
      "text/plain": [
       "<Figure size 432x288 with 1 Axes>"
      ]
     },
     "metadata": {
      "needs_background": "light"
     },
     "output_type": "display_data"
    }
   ],
   "source": [
    "%matplotlib inline\n",
    "\n",
    "plot_attention_head(in_tokens, translated_tokens, attention)"
   ]
  },
  {
   "cell_type": "code",
   "execution_count": 76,
   "metadata": {},
   "outputs": [],
   "source": [
    "def plot_attention_weights(in_tokens, translated_tokens, attention):\n",
    "    in_tokens = tf.convert_to_tensor([sentence])\n",
    "    in_tokens = tokenizers.pt.tokenize(in_tokens).to_tensor()\n",
    "    in_tokens = tokenizers.pt.lookup(in_tokens)[0]\n",
    "    in_tokens\n",
    "    \n",
    "    fig = plt.figure(figsize=(16, 8))\n",
    "    \n",
    "    for h, head in enumerate(attention_heads):\n",
    "        \n",
    "        ax = fig.add_subplot(2, 4, h+1)\n",
    "        \n",
    "        plot_attention_head(in_tokens, translated_tokens, head)\n",
    "        \n",
    "        ax.set_xlabel('Head {}'.format(h+1))\n",
    "        \n",
    "    plt.tight_layout()\n",
    "    plt.show()"
   ]
  },
  {
   "cell_type": "code",
   "execution_count": 77,
   "metadata": {},
   "outputs": [
    {
     "data": {
      "image/png": "[encoded data removed]",
      "text/plain": [
       "<Figure size 1152x576 with 8 Axes>"
      ]
     },
     "metadata": {
      "needs_background": "light"
     },
     "output_type": "display_data"
    }
   ],
   "source": [
    "%matplotlib inline\n",
    "plot_attention_weights(in_tokens, translated_tokens, attention)"
   ]
  },
  {
   "cell_type": "markdown",
   "metadata": {},
   "source": [
    "# Plot 2"
   ]
  },
  {
   "cell_type": "code",
   "execution_count": 78,
   "metadata": {},
   "outputs": [],
   "source": [
    "sentence = \"Eu li sobre triceratops na enciclopédia.\"\n",
    "ground_truth = \"I read about triceratops in the encyclopedia.\""
   ]
  },
  {
   "cell_type": "code",
   "execution_count": 79,
   "metadata": {},
   "outputs": [
    {
     "name": "stdout",
     "output_type": "stream",
     "text": [
      "WARNING:tensorflow:5 out of the last 12 calls to <function recreate_function.<locals>.restored_function_body at 0x7fadf544fd40> triggered tf.function retracing. Tracing is expensive and the excessive number of tracings could be due to (1) creating @tf.function repeatedly in a loop, (2) passing tensors with different shapes, (3) passing Python objects instead of tensors. For (1), please define your @tf.function outside of the loop. For (2), @tf.function has experimental_relax_shapes=True option that relaxes argument shapes that can avoid unnecessary retracing. For (3), please refer to https://www.tensorflow.org/guide/function#controlling_retracing and https://www.tensorflow.org/api_docs/python/tf/function for  more details.\n"
     ]
    },
    {
     "name": "stderr",
     "output_type": "stream",
     "text": [
      "WARNING:tensorflow:5 out of the last 12 calls to <function recreate_function.<locals>.restored_function_body at 0x7fadf544fd40> triggered tf.function retracing. Tracing is expensive and the excessive number of tracings could be due to (1) creating @tf.function repeatedly in a loop, (2) passing tensors with different shapes, (3) passing Python objects instead of tensors. For (1), please define your @tf.function outside of the loop. For (2), @tf.function has experimental_relax_shapes=True option that relaxes argument shapes that can avoid unnecessary retracing. For (3), please refer to https://www.tensorflow.org/guide/function#controlling_retracing and https://www.tensorflow.org/api_docs/python/tf/function for  more details.\n"
     ]
    },
    {
     "name": "stdout",
     "output_type": "stream",
     "text": [
      "WARNING:tensorflow:6 out of the last 13 calls to <function recreate_function.<locals>.restored_function_body at 0x7fadf4231e60> triggered tf.function retracing. Tracing is expensive and the excessive number of tracings could be due to (1) creating @tf.function repeatedly in a loop, (2) passing tensors with different shapes, (3) passing Python objects instead of tensors. For (1), please define your @tf.function outside of the loop. For (2), @tf.function has experimental_relax_shapes=True option that relaxes argument shapes that can avoid unnecessary retracing. For (3), please refer to https://www.tensorflow.org/guide/function#controlling_retracing and https://www.tensorflow.org/api_docs/python/tf/function for  more details.\n"
     ]
    },
    {
     "name": "stderr",
     "output_type": "stream",
     "text": [
      "WARNING:tensorflow:6 out of the last 13 calls to <function recreate_function.<locals>.restored_function_body at 0x7fadf4231e60> triggered tf.function retracing. Tracing is expensive and the excessive number of tracings could be due to (1) creating @tf.function repeatedly in a loop, (2) passing tensors with different shapes, (3) passing Python objects instead of tensors. For (1), please define your @tf.function outside of the loop. For (2), @tf.function has experimental_relax_shapes=True option that relaxes argument shapes that can avoid unnecessary retracing. For (3), please refer to https://www.tensorflow.org/guide/function#controlling_retracing and https://www.tensorflow.org/api_docs/python/tf/function for  more details.\n"
     ]
    },
    {
     "name": "stdout",
     "output_type": "stream",
     "text": [
      "Input:         : Eu li sobre triceratops na enciclopédia.\n",
      "Prediction     : i read about trilorits in encyclopedia .\n",
      "Ground truth   : I read about triceratops in the encyclopedia.\n"
     ]
    }
   ],
   "source": [
    "translated_text, translated_tokens, attention_weights = evaluate(sentence)\n",
    "print_translation(sentence, translated_text, ground_truth)"
   ]
  },
  {
   "cell_type": "code",
   "execution_count": 80,
   "metadata": {},
   "outputs": [
    {
     "name": "stdout",
     "output_type": "stream",
     "text": [
      "WARNING:tensorflow:5 out of the last 11 calls to <function recreate_function.<locals>.restored_function_body at 0x7fadf4231f80> triggered tf.function retracing. Tracing is expensive and the excessive number of tracings could be due to (1) creating @tf.function repeatedly in a loop, (2) passing tensors with different shapes, (3) passing Python objects instead of tensors. For (1), please define your @tf.function outside of the loop. For (2), @tf.function has experimental_relax_shapes=True option that relaxes argument shapes that can avoid unnecessary retracing. For (3), please refer to https://www.tensorflow.org/guide/function#controlling_retracing and https://www.tensorflow.org/api_docs/python/tf/function for  more details.\n"
     ]
    },
    {
     "name": "stderr",
     "output_type": "stream",
     "text": [
      "WARNING:tensorflow:5 out of the last 11 calls to <function recreate_function.<locals>.restored_function_body at 0x7fadf4231f80> triggered tf.function retracing. Tracing is expensive and the excessive number of tracings could be due to (1) creating @tf.function repeatedly in a loop, (2) passing tensors with different shapes, (3) passing Python objects instead of tensors. For (1), please define your @tf.function outside of the loop. For (2), @tf.function has experimental_relax_shapes=True option that relaxes argument shapes that can avoid unnecessary retracing. For (3), please refer to https://www.tensorflow.org/guide/function#controlling_retracing and https://www.tensorflow.org/api_docs/python/tf/function for  more details.\n"
     ]
    },
    {
     "data": {
      "image/png": "[encoded data removed]",
      "text/plain": [
       "<Figure size 1152x576 with 8 Axes>"
      ]
     },
     "metadata": {
      "needs_background": "light"
     },
     "output_type": "display_data"
    }
   ],
   "source": [
    "%matplotlib inline\n",
    "plot_attention_weights(sentence, translated_tokens, attention_weights['decoder_layer4_block2'][0])"
   ]
  }
 ],
 "metadata": {
  "kernelspec": {
   "display_name": "Python 3",
   "language": "python",
   "name": "python3"
  },
  "language_info": {
   "codemirror_mode": {
    "name": "ipython",
    "version": 3
   },
   "file_extension": ".py",
   "mimetype": "text/x-python",
   "name": "python",
   "nbconvert_exporter": "python",
   "pygments_lexer": "ipython3",
   "version": "3.7.10"
  }
 },
 "nbformat": 4,
 "nbformat_minor": 4
}